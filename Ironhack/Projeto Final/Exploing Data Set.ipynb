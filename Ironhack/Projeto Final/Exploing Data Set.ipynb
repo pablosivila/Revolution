{
 "cells": [
  {
   "cell_type": "code",
   "execution_count": 1,
   "metadata": {},
   "outputs": [],
   "source": [
    "import pandas as pd\n",
    "import seaborn as sns\n",
    "import matplotlib.pyplot as plt\n",
    "%matplotlib inline"
   ]
  },
  {
   "cell_type": "code",
   "execution_count": 3,
   "metadata": {},
   "outputs": [
    {
     "data": {
      "text/html": [
       "<div>\n",
       "<style scoped>\n",
       "    .dataframe tbody tr th:only-of-type {\n",
       "        vertical-align: middle;\n",
       "    }\n",
       "\n",
       "    .dataframe tbody tr th {\n",
       "        vertical-align: top;\n",
       "    }\n",
       "\n",
       "    .dataframe thead th {\n",
       "        text-align: right;\n",
       "    }\n",
       "</style>\n",
       "<table border=\"1\" class=\"dataframe\">\n",
       "  <thead>\n",
       "    <tr style=\"text-align: right;\">\n",
       "      <th></th>\n",
       "      <th>date</th>\n",
       "      <th>home_team</th>\n",
       "      <th>away_team</th>\n",
       "      <th>home_score</th>\n",
       "      <th>away_score</th>\n",
       "      <th>tournament</th>\n",
       "      <th>city</th>\n",
       "      <th>country</th>\n",
       "      <th>neutral</th>\n",
       "    </tr>\n",
       "  </thead>\n",
       "  <tbody>\n",
       "    <tr>\n",
       "      <th>0</th>\n",
       "      <td>1872-11-30</td>\n",
       "      <td>Scotland</td>\n",
       "      <td>England</td>\n",
       "      <td>0</td>\n",
       "      <td>0</td>\n",
       "      <td>Friendly</td>\n",
       "      <td>Glasgow</td>\n",
       "      <td>Scotland</td>\n",
       "      <td>False</td>\n",
       "    </tr>\n",
       "    <tr>\n",
       "      <th>1</th>\n",
       "      <td>1873-03-08</td>\n",
       "      <td>England</td>\n",
       "      <td>Scotland</td>\n",
       "      <td>4</td>\n",
       "      <td>2</td>\n",
       "      <td>Friendly</td>\n",
       "      <td>London</td>\n",
       "      <td>England</td>\n",
       "      <td>False</td>\n",
       "    </tr>\n",
       "    <tr>\n",
       "      <th>2</th>\n",
       "      <td>1874-03-07</td>\n",
       "      <td>Scotland</td>\n",
       "      <td>England</td>\n",
       "      <td>2</td>\n",
       "      <td>1</td>\n",
       "      <td>Friendly</td>\n",
       "      <td>Glasgow</td>\n",
       "      <td>Scotland</td>\n",
       "      <td>False</td>\n",
       "    </tr>\n",
       "    <tr>\n",
       "      <th>3</th>\n",
       "      <td>1875-03-06</td>\n",
       "      <td>England</td>\n",
       "      <td>Scotland</td>\n",
       "      <td>2</td>\n",
       "      <td>2</td>\n",
       "      <td>Friendly</td>\n",
       "      <td>London</td>\n",
       "      <td>England</td>\n",
       "      <td>False</td>\n",
       "    </tr>\n",
       "    <tr>\n",
       "      <th>4</th>\n",
       "      <td>1876-03-04</td>\n",
       "      <td>Scotland</td>\n",
       "      <td>England</td>\n",
       "      <td>3</td>\n",
       "      <td>0</td>\n",
       "      <td>Friendly</td>\n",
       "      <td>Glasgow</td>\n",
       "      <td>Scotland</td>\n",
       "      <td>False</td>\n",
       "    </tr>\n",
       "  </tbody>\n",
       "</table>\n",
       "</div>"
      ],
      "text/plain": [
       "         date home_team away_team  home_score  away_score tournament     city  \\\n",
       "0  1872-11-30  Scotland   England           0           0   Friendly  Glasgow   \n",
       "1  1873-03-08   England  Scotland           4           2   Friendly   London   \n",
       "2  1874-03-07  Scotland   England           2           1   Friendly  Glasgow   \n",
       "3  1875-03-06   England  Scotland           2           2   Friendly   London   \n",
       "4  1876-03-04  Scotland   England           3           0   Friendly  Glasgow   \n",
       "\n",
       "    country  neutral  \n",
       "0  Scotland    False  \n",
       "1   England    False  \n",
       "2  Scotland    False  \n",
       "3   England    False  \n",
       "4  Scotland    False  "
      ]
     },
     "execution_count": 3,
     "metadata": {},
     "output_type": "execute_result"
    }
   ],
   "source": [
    "data = pd.read_csv('results.csv')\n",
    "data.head()"
   ]
  },
  {
   "cell_type": "code",
   "execution_count": 4,
   "metadata": {},
   "outputs": [
    {
     "name": "stdout",
     "output_type": "stream",
     "text": [
      "<class 'pandas.core.frame.DataFrame'>\n",
      "RangeIndex: 40945 entries, 0 to 40944\n",
      "Data columns (total 9 columns):\n",
      "date          40945 non-null object\n",
      "home_team     40945 non-null object\n",
      "away_team     40945 non-null object\n",
      "home_score    40945 non-null int64\n",
      "away_score    40945 non-null int64\n",
      "tournament    40945 non-null object\n",
      "city          40945 non-null object\n",
      "country       40945 non-null object\n",
      "neutral       40945 non-null bool\n",
      "dtypes: bool(1), int64(2), object(6)\n",
      "memory usage: 2.5+ MB\n"
     ]
    }
   ],
   "source": [
    "data.info()"
   ]
  },
  {
   "cell_type": "code",
   "execution_count": 7,
   "metadata": {
    "scrolled": true
   },
   "outputs": [
    {
     "data": {
      "text/plain": [
       "1     2204\n",
       "2     2564\n",
       "3     4018\n",
       "4     2528\n",
       "5     3233\n",
       "6     5957\n",
       "7     2755\n",
       "8     2737\n",
       "9     4170\n",
       "10    4440\n",
       "11    4079\n",
       "12    2260\n",
       "Name: date_month, dtype: int64"
      ]
     },
     "execution_count": 7,
     "metadata": {},
     "output_type": "execute_result"
    }
   ],
   "source": [
    "data[\"date\"] = pd.to_datetime(data[\"date\"])\n",
    "data[\"date_month\"] = data[\"date\"].dt.month\n",
    "data[\"date_month\"].value_counts().sort_index()"
   ]
  },
  {
   "cell_type": "code",
   "execution_count": 12,
   "metadata": {},
   "outputs": [
    {
     "data": {
      "text/plain": [
       "0        1872\n",
       "1        1873\n",
       "2        1874\n",
       "3        1875\n",
       "4        1876\n",
       "5        1876\n",
       "6        1877\n",
       "7        1877\n",
       "8        1878\n",
       "9        1878\n",
       "10       1879\n",
       "11       1879\n",
       "12       1879\n",
       "13       1880\n",
       "14       1880\n",
       "15       1880\n",
       "16       1881\n",
       "17       1881\n",
       "18       1881\n",
       "19       1882\n",
       "20       1882\n",
       "21       1882\n",
       "22       1882\n",
       "23       1882\n",
       "24       1883\n",
       "25       1883\n",
       "26       1883\n",
       "27       1883\n",
       "28       1883\n",
       "29       1884\n",
       "         ... \n",
       "40915    2019\n",
       "40916    2019\n",
       "40917    2019\n",
       "40918    2019\n",
       "40919    2019\n",
       "40920    2019\n",
       "40921    2019\n",
       "40922    2019\n",
       "40923    2019\n",
       "40924    2019\n",
       "40925    2019\n",
       "40926    2019\n",
       "40927    2019\n",
       "40928    2019\n",
       "40929    2019\n",
       "40930    2019\n",
       "40931    2019\n",
       "40932    2019\n",
       "40933    2019\n",
       "40934    2019\n",
       "40935    2019\n",
       "40936    2019\n",
       "40937    2019\n",
       "40938    2019\n",
       "40939    2019\n",
       "40940    2019\n",
       "40941    2019\n",
       "40942    2019\n",
       "40943    2019\n",
       "40944    2019\n",
       "Name: date_year, Length: 40945, dtype: int64"
      ]
     },
     "execution_count": 12,
     "metadata": {},
     "output_type": "execute_result"
    }
   ],
   "source": [
    "data[\"date_year\"] = data[\"date\"].dt.year\n",
    "data[\"date_year\"]"
   ]
  },
  {
   "cell_type": "code",
   "execution_count": null,
   "metadata": {},
   "outputs": [],
   "source": [
    "year = data[data[\"date_year\"]==6]\n",
    "june = june[june[\"tournament\"].isin(june[\"tournament\"].value_counts().head(7).index)]\n",
    "plt.figure(figsize=(20,5))\n",
    "sns.countplot(data=june,x=\"tournament\")\n",
    "plt.show()"
   ]
  },
  {
   "cell_type": "code",
   "execution_count": 15,
   "metadata": {},
   "outputs": [
    {
     "ename": "SyntaxError",
     "evalue": "invalid syntax (<ipython-input-15-631b2db60ff8>, line 1)",
     "output_type": "error",
     "traceback": [
      "\u001b[1;36m  File \u001b[1;32m\"<ipython-input-15-631b2db60ff8>\"\u001b[1;36m, line \u001b[1;32m1\u001b[0m\n\u001b[1;33m    [\"tournament\"].isin(june[\"tournament\"].value_counts().head(7).index)]\u001b[0m\n\u001b[1;37m                                                                        ^\u001b[0m\n\u001b[1;31mSyntaxError\u001b[0m\u001b[1;31m:\u001b[0m invalid syntax\n"
     ]
    }
   ],
   "source": [
    "[\"tournament\"].isin(june[\"tournament\"].value_counts().head(7).index)]\n"
   ]
  },
  {
   "cell_type": "markdown",
   "metadata": {},
   "source": [
    "##FAZER UMA ANALISE DE CORRELAÇAO ENTRE OS RESULTADOS DE UMA SELEÇAO DE 8 ANOS ANTES DA CONQUISTA DE UMA COPA DO MUNDO"
   ]
  },
  {
   "cell_type": "code",
   "execution_count": null,
   "metadata": {},
   "outputs": [],
   "source": [
    "#NUMERO DE VITORIAS, TORNEIOS VENCIDOS\n",
    "\n",
    "#QUAL É O MELHOR TIME EM CONFORNTOS INTERNACIONAIS DA HISTORIA. O BRASIL É REALMENTE O MAIS BEM SUCEDIDO?\n",
    "\n",
    "#"
   ]
  }
 ],
 "metadata": {
  "kernelspec": {
   "display_name": "Python 3",
   "language": "python",
   "name": "python3"
  },
  "language_info": {
   "codemirror_mode": {
    "name": "ipython",
    "version": 3
   },
   "file_extension": ".py",
   "mimetype": "text/x-python",
   "name": "python",
   "nbconvert_exporter": "python",
   "pygments_lexer": "ipython3",
   "version": "3.7.3"
  }
 },
 "nbformat": 4,
 "nbformat_minor": 2
}
