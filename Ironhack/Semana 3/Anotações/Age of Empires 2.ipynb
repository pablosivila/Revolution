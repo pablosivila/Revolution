{
 "cells": [
  {
   "cell_type": "code",
   "execution_count": 31,
   "metadata": {},
   "outputs": [],
   "source": [
    "import requests"
   ]
  },
  {
   "cell_type": "code",
   "execution_count": 32,
   "metadata": {},
   "outputs": [],
   "source": [
    "response = requests.get('https://age-of-empires-2-api.herokuapp.com/api/v1/civilizations')"
   ]
  },
  {
   "cell_type": "code",
   "execution_count": 34,
   "metadata": {},
   "outputs": [
    {
     "data": {
      "text/plain": [
       "<Response [200]>"
      ]
     },
     "execution_count": 34,
     "metadata": {},
     "output_type": "execute_result"
    }
   ],
   "source": [
    "response"
   ]
  },
  {
   "cell_type": "code",
   "execution_count": 35,
   "metadata": {},
   "outputs": [],
   "source": [
    "civilizations = response.json()"
   ]
  },
  {
   "cell_type": "code",
   "execution_count": 39,
   "metadata": {},
   "outputs": [
    {
     "data": {
      "text/plain": [
       "[{'id': 1,\n",
       "  'name': 'Aztecs',\n",
       "  'expansion': 'The Conquerors',\n",
       "  'army_type': 'Infantry and Monk',\n",
       "  'unique_unit': ['https://age-of-empires-2-api.herokuapp.com/api/v1/unit/jaguar_warrior'],\n",
       "  'unique_tech': ['https://age-of-empires-2-api.herokuapp.com/api/v1/technology/garland_wars'],\n",
       "  'team_bonus': 'Relics generate +33% gold',\n",
       "  'civilization_bonus': ['Villagers carry +5',\n",
       "   'Military units created 15% faster',\n",
       "   '+5 Monk hit points for each Monastery technology',\n",
       "   'Loom free']},\n",
       " {'id': 2,\n",
       "  'name': 'Britons',\n",
       "  'expansion': 'Age of Kings',\n",
       "  'army_type': 'Foot Archer',\n",
       "  'unique_unit': ['https://age-of-empires-2-api.herokuapp.com/api/v1/unit/longbowman'],\n",
       "  'unique_tech': ['https://age-of-empires-2-api.herokuapp.com/api/v1/technology/yeomen'],\n",
       "  'team_bonus': 'Archery Ranges work 20% faster',\n",
       "  'civilization_bonus': ['Town Centers cost -50% wood upon reaching the Castle Age',\n",
       "   'Foot archers (excluding Skirmishers) have +1 range in Castle Age and +1 in Imperial Age (for +2 total)',\n",
       "   'Shepherds work 25% faster']},\n",
       " {'id': 3,\n",
       "  'name': 'Bizantines',\n",
       "  'expansion': 'Age of Kings',\n",
       "  'army_type': 'Defensive',\n",
       "  'unique_unit': ['https://age-of-empires-2-api.herokuapp.com/api/v1/unit/cataphract'],\n",
       "  'unique_tech': ['https://age-of-empires-2-api.herokuapp.com/api/v1/technology/logistica'],\n",
       "  'team_bonus': 'Monks +50% heal speed',\n",
       "  'civilization_bonus': ['Buildings (except gates) have +10% HP in Dark Age / +20% HP in Feudal Age  / +30% in Castle Age / +40% in Imperial Age',\n",
       "   'Spearman skirmisher and camel lines cost 25% less',\n",
       "   'Fire Ships attack 20% faster',\n",
       "   'Imperial Age costs -33%',\n",
       "   'Town Watch is free']},\n",
       " {'id': 4,\n",
       "  'name': 'Celts',\n",
       "  'expansion': 'Age of Kings',\n",
       "  'army_type': 'Infantry',\n",
       "  'unique_unit': ['https://age-of-empires-2-api.herokuapp.com/api/v1/unit/woad_raider'],\n",
       "  'unique_tech': ['https://age-of-empires-2-api.herokuapp.com/api/v1/technology/furor_celtica'],\n",
       "  'team_bonus': 'Siege Workshops work 20% faster',\n",
       "  'civilization_bonus': ['Infantry moves 15% faster',\n",
       "   'Lumberjacks work 15% faster',\n",
       "   'Siege weapons reload 20% faster',\n",
       "   \"Sheep cannot be stolen if within one Celt unit's line of sight\"]},\n",
       " {'id': 5,\n",
       "  'name': 'Chinese',\n",
       "  'expansion': 'Age of Kings',\n",
       "  'army_type': 'Archer',\n",
       "  'unique_unit': ['https://age-of-empires-2-api.herokuapp.com/api/v1/unit/chu_ko_nu'],\n",
       "  'unique_tech': ['https://age-of-empires-2-api.herokuapp.com/api/v1/technology/rocketry'],\n",
       "  'team_bonus': 'Famrs provide +45 food',\n",
       "  'civilization_bonus': ['Start game with 3 extra villagers but -50 wood and -200 food',\n",
       "   'Technologies cost -10% in Feudal Age/ -15% in Castle Age/-20% in Imperial Age',\n",
       "   'Town Centers support 10 population instead of 5',\n",
       "   'Demolition Ships have +50% HP']},\n",
       " {'id': 6,\n",
       "  'name': 'Franks',\n",
       "  'expansion': 'Age of Kings',\n",
       "  'army_type': 'Cavalry',\n",
       "  'unique_unit': ['https://age-of-empires-2-api.herokuapp.com/api/v1/unit/throwing_axeman'],\n",
       "  'unique_tech': ['https://age-of-empires-2-api.herokuapp.com/api/v1/technology/bearded_axe'],\n",
       "  'team_bonus': 'Knights have +2 line of sight',\n",
       "  'civilization_bonus': ['Castles are 25% cheaper',\n",
       "   'Knights have +20% HP',\n",
       "   'Farm upgrades are free (Mill is required to receive bonus)']},\n",
       " {'id': 7,\n",
       "  'name': 'Goths',\n",
       "  'expansion': 'Age of Kings',\n",
       "  'army_type': 'Infantry',\n",
       "  'unique_unit': ['https://age-of-empires-2-api.herokuapp.com/api/v1/unit/huskarl'],\n",
       "  'unique_tech': ['https://age-of-empires-2-api.herokuapp.com/api/v1/technology/anarchy',\n",
       "   'https://age-of-empires-2-api.herokuapp.com/api/v1/technology/perfusion'],\n",
       "  'team_bonus': 'Barracks operate 20% faster',\n",
       "  'civilization_bonus': ['Infantry cost 35% less (starting in Feudal Age)',\n",
       "   'Infantry have +1 attack against buildings',\n",
       "   'Villagers have +5 attack versus wild boar',\n",
       "   'Hunters carry +15 meat',\n",
       "   '+10 to population limit in Imperial Age']},\n",
       " {'id': 8,\n",
       "  'name': 'Huns',\n",
       "  'expansion': 'The Conquerors',\n",
       "  'army_type': 'Cavalry',\n",
       "  'unique_unit': ['https://age-of-empires-2-api.herokuapp.com/api/v1/unit/tarkan'],\n",
       "  'unique_tech': ['https://age-of-empires-2-api.herokuapp.com/api/v1/technology/atheism'],\n",
       "  'team_bonus': 'Stables are 20% faster',\n",
       "  'civilization_bonus': ['Houses are not required to support population',\n",
       "   'Start game with -100 Wood',\n",
       "   'Cavalry Archers cost -25% in Castle Age/ -30% in Imperial Age',\n",
       "   'Trebuchets are 35% more accurate.']},\n",
       " {'id': 9,\n",
       "  'name': 'Japanese',\n",
       "  'expansion': 'Age of Kings',\n",
       "  'army_type': 'Infantry',\n",
       "  'unique_unit': ['https://age-of-empires-2-api.herokuapp.com/api/v1/unit/samurai'],\n",
       "  'unique_tech': ['https://age-of-empires-2-api.herokuapp.com/api/v1/technology/kataparuto'],\n",
       "  'team_bonus': 'Galleys have +50% line of sight',\n",
       "  'civilization_bonus': ['Fishing Ships have 2x HP and +2 pierce armor',\n",
       "   'Fishing Ships work +5% faster in Dark Age/ +10% in Feudal Age/ +15% in Castle Age/ +20% in Imperial Age',\n",
       "   'Lumber Camps / Mining Camps / Mills are 50% cheaper',\n",
       "   'Infantry attack 25% faster (starting in Feudal Age)']},\n",
       " {'id': 10,\n",
       "  'name': 'Koreans',\n",
       "  'expansion': 'The Conquerors',\n",
       "  'army_type': 'Tower and naval',\n",
       "  'unique_unit': ['https://age-of-empires-2-api.herokuapp.com/api/v1/unit/war_wagon',\n",
       "   'https://age-of-empires-2-api.herokuapp.com/api/v1/unit/turtle_ship'],\n",
       "  'unique_tech': ['https://age-of-empires-2-api.herokuapp.com/api/v1/technology/shinkichon'],\n",
       "  'team_bonus': 'Mangonel line has +1 range',\n",
       "  'civilization_bonus': ['Villagers have +3 line of sight',\n",
       "   'Stone miners work 20% faster',\n",
       "   'Guard Tower and Keep upgrades are free',\n",
       "   'Towers (except bombard towers) have +1 range in Castle Age/ +2 in Imperial Age']},\n",
       " {'id': 11,\n",
       "  'name': 'Mayans',\n",
       "  'expansion': 'The Conquerors',\n",
       "  'army_type': 'Archer',\n",
       "  'unique_unit': ['https://age-of-empires-2-api.herokuapp.com/api/v1/unit/plumed_archer'],\n",
       "  'unique_tech': ['https://age-of-empires-2-api.herokuapp.com/api/v1/technology/el_dorado'],\n",
       "  'team_bonus': 'Walls are 50% cheaper',\n",
       "  'civilization_bonus': ['Start game with 1 extra villager but -50 food',\n",
       "   'Natural resources last 20% longer',\n",
       "   'Archers cost -10% in Feudal Age/ -20% in Castle Age/ -30% in Imperial Age']},\n",
       " {'id': 12,\n",
       "  'name': 'Mongols',\n",
       "  'expansion': 'Age of Kings',\n",
       "  'army_type': 'Cavalry Archer',\n",
       "  'unique_unit': ['https://age-of-empires-2-api.herokuapp.com/api/v1/unit/mangudai'],\n",
       "  'unique_tech': ['https://age-of-empires-2-api.herokuapp.com/api/v1/technology/drill'],\n",
       "  'team_bonus': 'Scout line has +2 Line of sight',\n",
       "  'civilization_bonus': ['Cavalry Archers reload 20% faster',\n",
       "   'Light Cavalry and Hussars have +30% HP',\n",
       "   'Hunters work 50% faster']},\n",
       " {'id': 13,\n",
       "  'name': 'Persians',\n",
       "  'expansion': 'Age of Kings',\n",
       "  'army_type': 'Cavalry',\n",
       "  'unique_unit': ['https://age-of-empires-2-api.herokuapp.com/api/v1/unit/war_elephant'],\n",
       "  'unique_tech': ['https://age-of-empires-2-api.herokuapp.com/api/v1/technology/mahouts'],\n",
       "  'team_bonus': 'Knights have +2 attack versus Archers',\n",
       "  'civilization_bonus': ['Start game with +50 wood and food',\n",
       "   'Town Center and Docks have 2x HP',\n",
       "   'Town Centers and Docks operate +10% faster in Feudal Age/ +15% in Castle Age/ +20% in Imperial Age']},\n",
       " {'id': 14,\n",
       "  'name': 'Saracens',\n",
       "  'expansion': 'Age of Kings',\n",
       "  'army_type': 'Camel and naval',\n",
       "  'unique_unit': ['https://age-of-empires-2-api.herokuapp.com/api/v1/unit/mameluke'],\n",
       "  'unique_tech': ['https://age-of-empires-2-api.herokuapp.com/api/v1/technology/zealotry'],\n",
       "  'team_bonus': 'Foot archers have +2 attack bonus against buildings',\n",
       "  'civilization_bonus': ['Market trade cost is only 5%',\n",
       "   'Transport Ships have 2x HP and carry capacity',\n",
       "   'Galleys attack 20% faster',\n",
       "   'Cavalry Archers have +4 attack bonus against buildings']},\n",
       " {'id': 15,\n",
       "  'name': 'Spanish',\n",
       "  'expansion': 'The Conquerors',\n",
       "  'army_type': 'Gunpowder and Monk',\n",
       "  'unique_unit': ['https://age-of-empires-2-api.herokuapp.com/api/v1/unit/conquistador',\n",
       "   'https://age-of-empires-2-api.herokuapp.com/api/v1/unit/missionary'],\n",
       "  'unique_tech': ['https://age-of-empires-2-api.herokuapp.com/api/v1/technology/supremacy'],\n",
       "  'team_bonus': 'Trade units generate +33% Gold',\n",
       "  'civilization_bonus': ['Villagers construct buildings 30% faster',\n",
       "   'Blacksmith upgrades do not cost any gold',\n",
       "   'Cannon Galleons benefit from Ballistics (less reload time and more accuracy)',\n",
       "   'Hand Cannoneers and Bombard Cannons reload 15% faster']},\n",
       " {'id': 16,\n",
       "  'name': 'Teutons',\n",
       "  'expansion': 'Age of Kings',\n",
       "  'army_type': 'Infantry',\n",
       "  'unique_unit': ['https://age-of-empires-2-api.herokuapp.com/api/v1/unit/teutonic_knight'],\n",
       "  'unique_tech': ['https://age-of-empires-2-api.herokuapp.com/api/v1/technology/crenellations'],\n",
       "  'team_bonus': 'Units are more resistant to conversion',\n",
       "  'civilization_bonus': ['Monks have 2x healing range',\n",
       "   'Towers can garrison 2x units (more arrows)',\n",
       "   'Murder Holes is free',\n",
       "   'Farms cost 33% less',\n",
       "   'Town Centers have +1 attack and +5 line of sight']},\n",
       " {'id': 17,\n",
       "  'name': 'Turks',\n",
       "  'expansion': 'Age of Kings',\n",
       "  'army_type': 'Gunpowder',\n",
       "  'unique_unit': ['https://age-of-empires-2-api.herokuapp.com/api/v1/unit/janissary'],\n",
       "  'unique_tech': ['https://age-of-empires-2-api.herokuapp.com/api/v1/technology/artillery'],\n",
       "  'team_bonus': 'Gunpowder units are created 20% faster',\n",
       "  'civilization_bonus': ['Gunpowder Units have +25% HP',\n",
       "   'Gunpowder technologies cost 50% less',\n",
       "   'Chemistry is free',\n",
       "   'Gold miners work 15% faster',\n",
       "   'Light Cavalry and Hussar upgrades are free']},\n",
       " {'id': 18,\n",
       "  'name': 'Vikings',\n",
       "  'expansion': 'Age of Kings',\n",
       "  'army_type': 'Infantry and naval',\n",
       "  'unique_unit': ['https://age-of-empires-2-api.herokuapp.com/api/v1/unit/berserk',\n",
       "   'https://age-of-empires-2-api.herokuapp.com/api/v1/unit/longboat'],\n",
       "  'unique_tech': ['https://age-of-empires-2-api.herokuapp.com/api/v1/technology/berserkergang'],\n",
       "  'team_bonus': 'Docks are 25% cheaper',\n",
       "  'civilization_bonus': ['Warships cost 20% less',\n",
       "   'Infantry have +10% HP in Feudal Age/ +15% in Castle Age/ +20% in Imperial Age',\n",
       "   'Wheelbarrow and Hand Cart are free']}]"
      ]
     },
     "execution_count": 39,
     "metadata": {},
     "output_type": "execute_result"
    }
   ],
   "source": [
    "civilizations['civilizations']"
   ]
  },
  {
   "cell_type": "code",
   "execution_count": 49,
   "metadata": {},
   "outputs": [],
   "source": [
    "file = open('age2.csv', 'w+') \n",
    "file.write('civiliation_name,army_type,unique_unit,unique_tech,team_bonus\\n')\n",
    "for item in civilizations['civilizations']:\n",
    "    file.write(f\"{item['name']},{item['army_type']},{item['unique_unit'][0].split('/')[-1]},{item['unique_tech'][0].split('/')[-1]},{item['team_bonus']}\\n\")\n",
    "file.close()    "
   ]
  },
  {
   "cell_type": "code",
   "execution_count": 50,
   "metadata": {},
   "outputs": [
    {
     "data": {
      "text/plain": [
       "'2.22.0'"
      ]
     },
     "execution_count": 50,
     "metadata": {},
     "output_type": "execute_result"
    }
   ],
   "source": [
    "requests.__version__"
   ]
  },
  {
   "cell_type": "code",
   "execution_count": 51,
   "metadata": {},
   "outputs": [],
   "source": [
    "import bs4"
   ]
  },
  {
   "cell_type": "code",
   "execution_count": 52,
   "metadata": {},
   "outputs": [
    {
     "data": {
      "text/plain": [
       "'4.7.1'"
      ]
     },
     "execution_count": 52,
     "metadata": {},
     "output_type": "execute_result"
    }
   ],
   "source": [
    "bs4.__version__"
   ]
  },
  {
   "cell_type": "code",
   "execution_count": null,
   "metadata": {},
   "outputs": [],
   "source": []
  }
 ],
 "metadata": {
  "kernelspec": {
   "display_name": "Python 3",
   "language": "python",
   "name": "python3"
  },
  "language_info": {
   "codemirror_mode": {
    "name": "ipython",
    "version": 3
   },
   "file_extension": ".py",
   "mimetype": "text/x-python",
   "name": "python",
   "nbconvert_exporter": "python",
   "pygments_lexer": "ipython3",
   "version": "3.7.3"
  }
 },
 "nbformat": 4,
 "nbformat_minor": 2
}
