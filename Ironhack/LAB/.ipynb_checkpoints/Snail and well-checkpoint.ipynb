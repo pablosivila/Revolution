{
 "cells": [
  {
   "cell_type": "code",
   "execution_count": 21,
   "metadata": {},
   "outputs": [],
   "source": [
    "well_height = 125\n",
    "cmPerDay = 30\n",
    "cmPerNight = -20\n",
    "snailHasNotEscaped = True\n",
    "days = 0\n",
    "accumulated_distance = 0\n"
   ]
  },
  {
   "cell_type": "code",
   "execution_count": 22,
   "metadata": {},
   "outputs": [],
   "source": [
    "cmPerWholeDay = daily_advance + night_retreat"
   ]
  },
  {
   "cell_type": "code",
   "execution_count": 24,
   "metadata": {},
   "outputs": [
    {
     "name": "stdout",
     "output_type": "stream",
     "text": [
      "Days 13\n"
     ]
    }
   ],
   "source": [
    "while snailHasNotEscaped:\n",
    "   accumulated_distance += cmPerWholeDay\n",
    "   days += 1\n",
    "   print(days)\n",
    "   if accumulated_distance >= well_height:\n",
    "      snailHasNotEscaped = False\n",
    "\n",
    "print('Days', days)"
   ]
  },
  {
   "cell_type": "code",
   "execution_count": null,
   "metadata": {},
   "outputs": [],
   "source": []
  },
  {
   "cell_type": "code",
   "execution_count": null,
   "metadata": {},
   "outputs": [],
   "source": []
  }
 ],
 "metadata": {
  "kernelspec": {
   "display_name": "Python 3",
   "language": "python",
   "name": "python3"
  },
  "language_info": {
   "codemirror_mode": {
    "name": "ipython",
    "version": 3
   },
   "file_extension": ".py",
   "mimetype": "text/x-python",
   "name": "python",
   "nbconvert_exporter": "python",
   "pygments_lexer": "ipython3",
   "version": "3.7.3"
  }
 },
 "nbformat": 4,
 "nbformat_minor": 2
}
