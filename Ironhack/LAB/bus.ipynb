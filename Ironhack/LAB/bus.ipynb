{
 "cells": [
  {
   "cell_type": "markdown",
   "metadata": {},
   "source": [
    "Bus stops"
   ]
  },
  {
   "cell_type": "code",
   "execution_count": 4,
   "metadata": {},
   "outputs": [],
   "source": [
    "stops = [(5, 1), (6, 2), (8, 4), (3, 9)]"
   ]
  },
  {
   "cell_type": "markdown",
   "metadata": {},
   "source": [
    "Number of stops"
   ]
  },
  {
   "cell_type": "code",
   "execution_count": 9,
   "metadata": {},
   "outputs": [
    {
     "name": "stdout",
     "output_type": "stream",
     "text": [
      "Number of stops:  4\n"
     ]
    }
   ],
   "source": [
    "stops_number = len(stops)\n",
    "print(\"Number of stops: \", str(stops_number))"
   ]
  },
  {
   "cell_type": "markdown",
   "metadata": {},
   "source": [
    "Maximum occupation of the bus"
   ]
  },
  {
   "cell_type": "code",
   "execution_count": 6,
   "metadata": {},
   "outputs": [
    {
     "name": "stdout",
     "output_type": "stream",
     "text": [
      "Maximum occupation: 12\n"
     ]
    }
   ],
   "source": [
    "passengers_total = 0\n",
    "max = 0\n",
    "for i, o in stops:\n",
    "    passengers_total = passengers_total + (i-o)\n",
    "    if max < passengers_total:\n",
    "        max = passengers_total\n",
    "    \n",
    "print(\"Maximum occupation: \" + str(max))"
   ]
  },
  {
   "cell_type": "markdown",
   "metadata": {},
   "source": [
    "Average Occupation"
   ]
  },
  {
   "cell_type": "code",
   "execution_count": 7,
   "metadata": {},
   "outputs": [
    {
     "name": "stdout",
     "output_type": "stream",
     "text": [
      "Average occupation: 7.5\n"
     ]
    }
   ],
   "source": [
    "occupation_list = []\n",
    "passengers_total = 0\n",
    "\n",
    "for i, o in stops:\n",
    "    passengers_total = passengers_total + (i-o)\n",
    "    occupation_list.append(passengers_total)\n",
    "    \n",
    "average = sum(occupation_list) / len(occupation_list)\n",
    "\n",
    "print(\"Average occupation: \" + str(average))"
   ]
  },
  {
   "cell_type": "markdown",
   "metadata": {},
   "source": [
    "Standard Deviation"
   ]
  },
  {
   "cell_type": "code",
   "execution_count": 8,
   "metadata": {},
   "outputs": [
    {
     "name": "stdout",
     "output_type": "stream",
     "text": [
      "Standard Variation: 3.415650255319866\n"
     ]
    }
   ],
   "source": [
    "import math\n",
    "\n",
    "means = []\n",
    "\n",
    "for i in occupation_list:\n",
    "    mean = (i - average)**2\n",
    "    means.append(mean)\n",
    "    \n",
    "variance = sum(means) / (len(means) - 1)\n",
    "\n",
    "standard_deviation = math.sqrt(variance)\n",
    "\n",
    "print(\"Standard Variation: \" + str(standard_deviation))"
   ]
  },
  {
   "cell_type": "code",
   "execution_count": null,
   "metadata": {},
   "outputs": [],
   "source": []
  }
 ],
 "metadata": {
  "kernelspec": {
   "display_name": "Python 3",
   "language": "python",
   "name": "python3"
  },
  "language_info": {
   "codemirror_mode": {
    "name": "ipython",
    "version": 3
   },
   "file_extension": ".py",
   "mimetype": "text/x-python",
   "name": "python",
   "nbconvert_exporter": "python",
   "pygments_lexer": "ipython3",
   "version": "3.7.3"
  }
 },
 "nbformat": 4,
 "nbformat_minor": 2
}
