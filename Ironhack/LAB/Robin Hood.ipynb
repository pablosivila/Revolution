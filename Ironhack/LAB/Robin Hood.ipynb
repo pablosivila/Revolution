{
 "cells": [
  {
   "cell_type": "code",
   "execution_count": 5,
   "metadata": {},
   "outputs": [],
   "source": [
    "# Variables\n",
    "\n",
    "points = [(4, 5), (-0, 2), (4, 7), (1, -3), (3, -2), (4, 5), (3, 2), (5, 7), (-5, 7), (2, 2), (-4, 5), (0, -2), (-4, 7), (-1, 3), (-3, 2), (-4, -5), (-3, 2), (5, 7), (5, 7), (2, 2), (9, 9), (-8, -9)]"
   ]
  },
  {
   "cell_type": "code",
   "execution_count": 6,
   "metadata": {},
   "outputs": [
    {
     "name": "stdout",
     "output_type": "stream",
     "text": [
      "(4, 5)\n",
      "(0, 2)\n",
      "(4, 7)\n",
      "(1, -3)\n",
      "(3, -2)\n",
      "(4, 5)\n",
      "(3, 2)\n",
      "(5, 7)\n",
      "(-5, 7)\n",
      "(2, 2)\n",
      "Hit an arrow with another 1 times.\n",
      "(-4, 5)\n",
      "(0, -2)\n",
      "(-4, 7)\n",
      "(-1, 3)\n",
      "(-3, 2)\n",
      "(-4, -5)\n",
      "(-3, 2)\n",
      "(5, 7)\n",
      "(5, 7)\n",
      "(2, 2)\n",
      "Hit an arrow with another 2 times.\n",
      "(9, 9)\n",
      "Hit an arrow with another 3 times.\n",
      "(-8, -9)\n"
     ]
    }
   ],
   "source": [
    "# 1. Robin Hood is famous for hitting an arrow with another arrow. Did you get it?\n",
    "double_arrow = 0\n",
    "for i in points:\n",
    "   i == i\n",
    "   print(i)\n",
    "   if i[0] == i[1]:\n",
    "       double_arrow += 1\n",
    "       print(\"Hit an arrow with another\", double_arrow, \"times.\")"
   ]
  },
  {
   "cell_type": "code",
   "execution_count": null,
   "metadata": {},
   "outputs": [],
   "source": []
  }
 ],
 "metadata": {
  "kernelspec": {
   "display_name": "Python 3",
   "language": "python",
   "name": "python3"
  },
  "language_info": {
   "codemirror_mode": {
    "name": "ipython",
    "version": 3
   },
   "file_extension": ".py",
   "mimetype": "text/x-python",
   "name": "python",
   "nbconvert_exporter": "python",
   "pygments_lexer": "ipython3",
   "version": "3.7.3"
  }
 },
 "nbformat": 4,
 "nbformat_minor": 2
}
