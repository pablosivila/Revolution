{
 "cells": [
  {
   "cell_type": "code",
   "execution_count": 28,
   "metadata": {},
   "outputs": [],
   "source": [
    "#variables\n",
    "stops = [(in1, out1), (in2, out2), (in3, out3), (in4, out4)]\n",
    "\n"
   ]
  },
  {
   "cell_type": "code",
   "execution_count": 2,
   "metadata": {},
   "outputs": [
    {
     "data": {
      "text/plain": [
       "4"
      ]
     },
     "execution_count": 2,
     "metadata": {},
     "output_type": "execute_result"
    }
   ],
   "source": [
    "# 1. Calculate the number of stops.\n",
    "len(stops)"
   ]
  },
  {
   "cell_type": "code",
   "execution_count": 43,
   "metadata": {},
   "outputs": [
    {
     "name": "stdout",
     "output_type": "stream",
     "text": [
      "[(2, -1), (5, -2), (7, -8), (4, -3)]\n"
     ]
    }
   ],
   "source": [
    "# 2. Assign a variable list...\n",
    "in1 = 2\n",
    "out1 = -1\n",
    "in2 = 5\n",
    "out2 = -2\n",
    "in3 = 7\n",
    "out3 = -8\n",
    "in4 = 4\n",
    "out4 = -3\n",
    "\n",
    "print(stops)"
   ]
  },
  {
   "cell_type": "code",
   "execution_count": null,
   "metadata": {},
   "outputs": [],
   "source": [
    "stops = [(2, -1), (5, -2), (7, -8), (4, -3)]"
   ]
  },
  {
   "cell_type": "code",
   "execution_count": 37,
   "metadata": {},
   "outputs": [
    {
     "name": "stdout",
     "output_type": "stream",
     "text": [
      "Balance of passenger Bus Stop 1:  1\n",
      "Balance of passenger Bus Stop 2:  3\n",
      "Balance of passenger Bus Stop 3:  -1\n",
      "Balance of passenger Bus Stop 4:  1\n"
     ]
    }
   ],
   "source": [
    "passenger_balance1 = in1 + out1\n",
    "print(\"Balance of passenger Bus Stop 1: \", passenger_balance1)\n",
    "passenger_balance2 = in2 + out2\n",
    "print(\"Balance of passenger Bus Stop 2: \", passenger_balance2)\n",
    "passenger_balance3 = in3 + out3\n",
    "print(\"Balance of passenger Bus Stop 3: \", passenger_balance3)\n",
    "passenger_balance4 = in4 + out4\n",
    "print(\"Balance of passenger Bus Stop 4: \", passenger_balance4)"
   ]
  },
  {
   "cell_type": "code",
   "execution_count": 56,
   "metadata": {},
   "outputs": [
    {
     "name": "stdout",
     "output_type": "stream",
     "text": [
      "Number of passengers in the bus each stop:  1\n",
      "Number of passengers in the bus each stop:  4\n",
      "Number of passengers in the bus each stop:  3\n",
      "Number of passengers in the bus each stop:  4\n"
     ]
    }
   ],
   "source": [
    "Balance_of_passenger = [1, 3, -1, 1]\n",
    "\n",
    "total = 0\n",
    "\n",
    "for i in Balance_of_passenger:\n",
    "    total += i\n",
    "    print(\"Number of passengers in the bus each stop: \", total)\n"
   ]
  },
  {
   "cell_type": "markdown",
   "metadata": {},
   "source": []
  },
  {
   "cell_type": "code",
   "execution_count": 60,
   "metadata": {},
   "outputs": [
    {
     "name": "stdout",
     "output_type": "stream",
     "text": [
      "The maximum ocupation of the bus: 4\n"
     ]
    }
   ],
   "source": [
    "# 3. Find the maximum occupation of the bus.\n",
    "number_of_pass = [1, 4, 3, 4]\n",
    "\n",
    "max(number_of_pass)\n",
    "print(\"The maximum ocupation of the bus:\", max(number_of_pass))"
   ]
  },
  {
   "cell_type": "code",
   "execution_count": 67,
   "metadata": {},
   "outputs": [
    {
     "name": "stdout",
     "output_type": "stream",
     "text": [
      "The average occupation: 3.0\n"
     ]
    }
   ],
   "source": [
    "#4 Calculate the average occupation. And the standard deviation.\n",
    "print(\"The average occupation:\", sum(number_of_pass)/len(number_of_pass))\n",
    "\n"
   ]
  },
  {
   "cell_type": "code",
   "execution_count": 69,
   "metadata": {},
   "outputs": [],
   "source": []
  },
  {
   "cell_type": "code",
   "execution_count": null,
   "metadata": {},
   "outputs": [],
   "source": []
  }
 ],
 "metadata": {
  "kernelspec": {
   "display_name": "Python 3",
   "language": "python",
   "name": "python3"
  },
  "language_info": {
   "codemirror_mode": {
    "name": "ipython",
    "version": 3
   },
   "file_extension": ".py",
   "mimetype": "text/x-python",
   "name": "python",
   "nbconvert_exporter": "python",
   "pygments_lexer": "ipython3",
   "version": "3.7.3"
  }
 },
 "nbformat": 4,
 "nbformat_minor": 2
}
