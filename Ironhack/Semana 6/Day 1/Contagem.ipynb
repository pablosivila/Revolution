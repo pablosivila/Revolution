{
 "cells": [
  {
   "cell_type": "code",
   "execution_count": 1,
   "metadata": {},
   "outputs": [
    {
     "data": {
      "text/plain": [
       "{5}"
      ]
     },
     "execution_count": 1,
     "metadata": {},
     "output_type": "execute_result"
    }
   ],
   "source": [
    "a = set([1, 3, 5])\n",
    "b = set([5, 6])\n",
    "a.union(b)\n",
    "{1, 3, 5, 6}\n",
    "a.intersection(b)\n",
    "{5}"
   ]
  },
  {
   "cell_type": "code",
   "execution_count": 11,
   "metadata": {},
   "outputs": [],
   "source": [
    "ironhack = {'Caio', 'Celia', 'Fernanda', 'Gabriel', 'Henrique', 'Juliana', 'Lucas C', 'Lucas W', 'Manu',\n",
    "            'Mariana Z', 'Marianna M', 'Marina', 'Meire', 'Nath', 'Pablo', 'Rafael', 'Raiana', 'Rodney',\n",
    "            'Rogerio', 'Tiago', 'Beatriz', 'Eric', 'Gabriela', 'Marco', 'Constance'}\n",
    "\n",
    "segundo_andar = {'Caio', 'Celia', 'Gabriel', 'Henrique', 'Fernanda', 'Lucas C', 'Lucas W', 'Mariana Z',\n",
    "                 'Marianna M', 'Marina', 'Meire', 'Pablo', 'Rafael', 'Rodney', 'Juliana', 'Raiana', 'Rogerio',\n",
    "                 'Manu', 'Nath', 'Tiago'}\n",
    "\n",
    "estudantes = {'Caio', 'Celia', 'Gabriel', 'Henrique', 'Fernanda', 'Lucas C', 'Lucas W', 'Mariana Z',\n",
    "              'Marianna M', 'Marina', 'Meire', 'Pablo', 'Rafael', 'Rodney', 'Beatriz', 'Eric',\n",
    "              'Gabriela', 'Marco'}\n",
    "\n",
    "tas = {'Juliana', 'Raiana', 'Rogerio', 'Constance', 'Paulo Freire'}\n",
    "\n",
    "mulheres = {'Celia', 'Fernanda', 'Mariana Z', 'Marianna M', 'Marina', 'Meire', 'Juliana', 'Raiana',\n",
    "            'Manu', 'Nath', 'Beatriz', 'Gabriela', 'Constance', 'Bela Gil', 'Lady Gaga', 'Ludmilla'}\n",
    "\n",
    "homens = {'Caio', 'Gabriel', 'Henrique', 'Lucas C', 'Lucas W', 'Pablo', 'Rafael', 'Rodney', 'Rogerio',\n",
    "          'Tiago', 'Eric', 'Marco', 'Paulo Freire', 'Drauzio Varella', 'Faustão'}\n"
   ]
  },
  {
   "cell_type": "code",
   "execution_count": 10,
   "metadata": {
    "scrolled": true
   },
   "outputs": [
    {
     "data": {
      "text/plain": [
       "{'Beatriz',\n",
       " 'Celia',\n",
       " 'Fernanda',\n",
       " 'Gabriela',\n",
       " 'Mariana Z',\n",
       " 'Marianna M',\n",
       " 'Marina',\n",
       " 'Meire'}"
      ]
     },
     "execution_count": 10,
     "metadata": {},
     "output_type": "execute_result"
    }
   ],
   "source": [
    "estudantes.intersection(mulheres)"
   ]
  },
  {
   "cell_type": "code",
   "execution_count": 12,
   "metadata": {},
   "outputs": [],
   "source": [
    "meninas_segundo = segundo_andar.intersection(mulheres)"
   ]
  },
  {
   "cell_type": "code",
   "execution_count": 13,
   "metadata": {},
   "outputs": [
    {
     "data": {
      "text/plain": [
       "{'Celia',\n",
       " 'Fernanda',\n",
       " 'Juliana',\n",
       " 'Manu',\n",
       " 'Mariana Z',\n",
       " 'Marianna M',\n",
       " 'Marina',\n",
       " 'Meire',\n",
       " 'Nath',\n",
       " 'Raiana'}"
      ]
     },
     "execution_count": 13,
     "metadata": {},
     "output_type": "execute_result"
    }
   ],
   "source": [
    "meninas_segundo"
   ]
  },
  {
   "cell_type": "code",
   "execution_count": 14,
   "metadata": {},
   "outputs": [],
   "source": [
    "alunas_segundo = meninas_segundo.intersection(estudantes)"
   ]
  },
  {
   "cell_type": "code",
   "execution_count": 15,
   "metadata": {},
   "outputs": [
    {
     "data": {
      "text/plain": [
       "{'Celia', 'Fernanda', 'Mariana Z', 'Marianna M', 'Marina', 'Meire'}"
      ]
     },
     "execution_count": 15,
     "metadata": {},
     "output_type": "execute_result"
    }
   ],
   "source": [
    "alunas_segundo"
   ]
  },
  {
   "cell_type": "code",
   "execution_count": 16,
   "metadata": {},
   "outputs": [],
   "source": [
    "#se eu quiser criar uma turma com 5 meninas e 5 meninos\n",
    "alunos = estudantes.intersection(homens)\n",
    "alunas = estudantes.intersection(mulheres)"
   ]
  },
  {
   "cell_type": "code",
   "execution_count": 21,
   "metadata": {},
   "outputs": [
    {
     "data": {
      "text/plain": [
       "{'Caio',\n",
       " 'Eric',\n",
       " 'Gabriel',\n",
       " 'Henrique',\n",
       " 'Lucas C',\n",
       " 'Lucas W',\n",
       " 'Marco',\n",
       " 'Pablo',\n",
       " 'Rafael',\n",
       " 'Rodney'}"
      ]
     },
     "execution_count": 21,
     "metadata": {},
     "output_type": "execute_result"
    }
   ],
   "source": [
    "alunos"
   ]
  },
  {
   "cell_type": "code",
   "execution_count": 22,
   "metadata": {},
   "outputs": [
    {
     "data": {
      "text/plain": [
       "{'Beatriz',\n",
       " 'Celia',\n",
       " 'Fernanda',\n",
       " 'Gabriela',\n",
       " 'Mariana Z',\n",
       " 'Marianna M',\n",
       " 'Marina',\n",
       " 'Meire'}"
      ]
     },
     "execution_count": 22,
     "metadata": {},
     "output_type": "execute_result"
    }
   ],
   "source": [
    "alunas"
   ]
  },
  {
   "cell_type": "code",
   "execution_count": 20,
   "metadata": {},
   "outputs": [
    {
     "data": {
      "text/plain": [
       "[10, 8]"
      ]
     },
     "execution_count": 20,
     "metadata": {},
     "output_type": "execute_result"
    }
   ],
   "source": [
    "[len(alunos), len(alunas)]"
   ]
  },
  {
   "cell_type": "code",
   "execution_count": 19,
   "metadata": {},
   "outputs": [
    {
     "data": {
      "text/plain": [
       "80"
      ]
     },
     "execution_count": 19,
     "metadata": {},
     "output_type": "execute_result"
    }
   ],
   "source": [
    "10*8"
   ]
  },
  {
   "cell_type": "code",
   "execution_count": 25,
   "metadata": {},
   "outputs": [
    {
     "data": {
      "text/plain": [
       "{'Beatriz',\n",
       " 'Caio',\n",
       " 'Celia',\n",
       " 'Eric',\n",
       " 'Fernanda',\n",
       " 'Gabriel',\n",
       " 'Gabriela',\n",
       " 'Henrique',\n",
       " 'Lucas C',\n",
       " 'Lucas W',\n",
       " 'Marco',\n",
       " 'Mariana Z',\n",
       " 'Marianna M',\n",
       " 'Marina',\n",
       " 'Meire',\n",
       " 'Pablo',\n",
       " 'Rafael',\n",
       " 'Rodney'}"
      ]
     },
     "execution_count": 25,
     "metadata": {},
     "output_type": "execute_result"
    }
   ],
   "source": [
    "#uma turma com 10 estudantes e 1 ta\n",
    "#quantas combinacoes possiveis\n",
    "estudantes"
   ]
  },
  {
   "cell_type": "code",
   "execution_count": 26,
   "metadata": {},
   "outputs": [
    {
     "data": {
      "text/plain": [
       "{'Constance', 'Juliana', 'Paulo Freire', 'Raiana', 'Rogerio'}"
      ]
     },
     "execution_count": 26,
     "metadata": {},
     "output_type": "execute_result"
    }
   ],
   "source": [
    "tas"
   ]
  },
  {
   "cell_type": "code",
   "execution_count": 27,
   "metadata": {},
   "outputs": [
    {
     "data": {
      "text/plain": [
       "[18, 5]"
      ]
     },
     "execution_count": 27,
     "metadata": {},
     "output_type": "execute_result"
    }
   ],
   "source": [
    "[len(estudantes), len(tas)]"
   ]
  },
  {
   "cell_type": "code",
   "execution_count": 28,
   "metadata": {},
   "outputs": [
    {
     "data": {
      "text/plain": [
       "90"
      ]
     },
     "execution_count": 28,
     "metadata": {},
     "output_type": "execute_result"
    }
   ],
   "source": [
    "18*5"
   ]
  },
  {
   "cell_type": "code",
   "execution_count": 29,
   "metadata": {},
   "outputs": [
    {
     "data": {
      "text/plain": [
       "158789030400"
      ]
     },
     "execution_count": 29,
     "metadata": {},
     "output_type": "execute_result"
    }
   ],
   "source": [
    "18*17*16*15*14*13*12*11*10*9"
   ]
  },
  {
   "cell_type": "code",
   "execution_count": null,
   "metadata": {},
   "outputs": [],
   "source": []
  }
 ],
 "metadata": {
  "kernelspec": {
   "display_name": "Python 3",
   "language": "python",
   "name": "python3"
  },
  "language_info": {
   "codemirror_mode": {
    "name": "ipython",
    "version": 3
   },
   "file_extension": ".py",
   "mimetype": "text/x-python",
   "name": "python",
   "nbconvert_exporter": "python",
   "pygments_lexer": "ipython3",
   "version": "3.7.3"
  }
 },
 "nbformat": 4,
 "nbformat_minor": 2
}
