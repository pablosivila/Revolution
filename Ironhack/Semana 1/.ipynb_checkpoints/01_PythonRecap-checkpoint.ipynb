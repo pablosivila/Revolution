{
 "cells": [
  {
   "cell_type": "markdown",
   "metadata": {},
   "source": [
    "# Python Recap\n",
    "\n",
    "<div class=\"alert alert-info\" style='text-align: right'>\n",
    "September 16th, 2019<br>\n",
    "Data Analytics Bootcamp<br>\n",
    "Ironhack SAO\n",
    "</div>"
   ]
  },
  {
   "cell_type": "markdown",
   "metadata": {},
   "source": [
    "<h2>1. Lesson Goals</h2>\n",
    "\n",
    "<p> In this lesson we will focus on reviewing some of the exercises delivered on the Prework. This aims to review some basic data structures and statements taught on the prework lessons."
   ]
  },
  {
   "cell_type": "markdown",
   "metadata": {},
   "source": [
    "<h2>2. Snail and Well</h2>\n",
    "\n",
    "<p><strong>PROBLEM:</strong> A snail falls at the bottom of a 125 cm well. Each day the snail rises 30 cm. But at night, while sleeping, slides 20 cm because the walls are wet. How many days does it take to escape from the well?\n",
    "\n",
    "<p> Before starting to review this exercise, I'll create a graphic explanation of how it could've been calculated. In order to do that, I'll have to find the Greatest Common Divisor (GCD) of some of the values given in the exercise.\n",
    "    \n",
    "<p> Thankfully, Python provides a function that calculates that for us called <code>gcd()</code>. To use it, we just need to import it from the <code>math</code> module."
   ]
  },
  {
   "cell_type": "code",
   "execution_count": 1,
   "metadata": {},
   "outputs": [],
   "source": [
    "#Importing the gcd function from the math module\n",
    "from math import gcd"
   ]
  },
  {
   "cell_type": "code",
   "execution_count": 2,
   "metadata": {},
   "outputs": [
    {
     "data": {
      "text/plain": [
       "5"
      ]
     },
     "execution_count": 2,
     "metadata": {},
     "output_type": "execute_result"
    }
   ],
   "source": [
    "#Calculating the gcd of the height of the well and of how much the snail climbs each day\n",
    "gcd(125,30)"
   ]
  },
  {
   "cell_type": "markdown",
   "metadata": {},
   "source": [
    "<p>Since the other information provided by the exercise (how much the snail slides each night) is also divisible by 5, I'll be using it to draw my solution. Below, there are two visual explanations of how to solve this problem."
   ]
  },
  {
   "cell_type": "markdown",
   "metadata": {},
   "source": [
    "<img src=\"Images/SnailWell1.PNG\"></img>"
   ]
  },
  {
   "cell_type": "markdown",
   "metadata": {},
   "source": [
    "<img src=\"Images/SnailWell0.PNG\"></img>"
   ]
  },
  {
   "cell_type": "markdown",
   "metadata": {},
   "source": [
    "<p>Why do we have two reasonable solutions? Because counting problems are ambiguous and may have more than one reasonable answer.\n",
    "\n",
    "<p>It's easy to answer this problem using this visual approach. But how could we have code it?"
   ]
  },
  {
   "cell_type": "code",
   "execution_count": 3,
   "metadata": {},
   "outputs": [],
   "source": [
    "#Step 1: Assign reasonable variable names to the values provided in the exercise\n",
    "\n",
    "WELL_HEIGHT = 125\n",
    "DAILY_ADVANCE = 30\n",
    "NIGHT_RETREAT = -20"
   ]
  },
  {
   "cell_type": "code",
   "execution_count": 4,
   "metadata": {},
   "outputs": [],
   "source": [
    "#Step 2: Assign the variable values to variables with proper names that represent the solution\n",
    "\n",
    "days = 0\n",
    "position = 0"
   ]
  },
  {
   "cell_type": "code",
   "execution_count": 5,
   "metadata": {},
   "outputs": [],
   "source": [
    "#Step 3: Write the loop to check if the snail has already got out of the well\n",
    "\n",
    "while position < WELL_HEIGHT:\n",
    "    day_position = position + DAILY_ADVANCE\n",
    "    if day_position > WELL_HEIGHT:\n",
    "        break\n",
    "    days +=1\n",
    "    position += DAILY_ADVANCE + NIGHT_RETREAT"
   ]
  },
  {
   "cell_type": "code",
   "execution_count": 6,
   "metadata": {},
   "outputs": [
    {
     "name": "stdout",
     "output_type": "stream",
     "text": [
      "It takes 10 days for the snail to escape the well.\n"
     ]
    }
   ],
   "source": [
    "#Step 4: Print the number of days that the Snail took to get out of the well\n",
    "\n",
    "print(\"It takes {} days for the snail to escape the well.\".format(days))"
   ]
  },
  {
   "cell_type": "markdown",
   "metadata": {},
   "source": [
    "<p>What if we start counting the first day as 1? To do that we just need to change the <code>days</code> variable on the Step 2."
   ]
  },
  {
   "cell_type": "code",
   "execution_count": 7,
   "metadata": {},
   "outputs": [],
   "source": [
    "#Step 2: Assign the variable values to variables with proper names that represent the solution\n",
    "\n",
    "days = 1\n",
    "position = 0"
   ]
  },
  {
   "cell_type": "code",
   "execution_count": 8,
   "metadata": {},
   "outputs": [],
   "source": [
    "#Step 3: Write the loop to check if the snail has already got out of the well\n",
    "\n",
    "while position < WELL_HEIGHT:\n",
    "    day_position = position + DAILY_ADVANCE\n",
    "    if day_position > WELL_HEIGHT:\n",
    "        break\n",
    "    days +=1\n",
    "    position += DAILY_ADVANCE + NIGHT_RETREAT"
   ]
  },
  {
   "cell_type": "code",
   "execution_count": 9,
   "metadata": {},
   "outputs": [
    {
     "name": "stdout",
     "output_type": "stream",
     "text": [
      "It takes 11 days for the snail to escape the well.\n"
     ]
    }
   ],
   "source": [
    "#Step 4: Print the number of days that the Snail took to get out of the well\n",
    "\n",
    "print(\"It takes {} days for the snail to escape the well.\".format(days))"
   ]
  },
  {
   "cell_type": "markdown",
   "metadata": {},
   "source": [
    "<h3>2.1 Pit Stop</h3>\n",
    "\n",
    "<ul>\n",
    "    <li>Why have we used a <strong>while loop</strong> instead of a <strong>for loop</strong>?</li>\n",
    "    <li>Why do we have an <strong>if</strong> statement inside the while loop?</li>\n",
    "    <li>Why do we use the <strong>break</strong> statement inside the if statement?</li>\n",
    "</ul>"
   ]
  },
  {
   "cell_type": "markdown",
   "metadata": {},
   "source": [
    "<h2>3. Duel of Sorcerers</h2>\n",
    "\n",
    "<p><strong>PROBLEM:</strong> You are witnessing an epic battle between two powerful sorcerers: Gandalf and Saruman. Each sorcerer has 10 spells of variable power in their mind and they are going to throw them one after the other. The winner of the duel will be the one who wins more of those clashes between spells. Spells are represented as a list of 10 integers whose value equals the power of the spell.\n",
    "\n",
    "<p>gandalf = [10, 11, 13, 30, 22, 11, 10, 33, 22, 22]<br>\n",
    "saruman = [23, 66, 12, 43, 12, 10, 44, 23, 12, 17]\n",
    "    \n",
    "<p>For example:\n",
    "\n",
    "<ol>\n",
    "    <li>The first clash is won by Saruman: 10 against 23, wins 23</li>\n",
    "    <li>The second clash wins Saruman: 11 against 66, wins 66</li>\n",
    "    <li>etc</li>\n",
    "</ol>\n",
    "\n",
    "<p>You will create two variables, one for each sorcerer, where the sum of clashes won will be stored. Depending on which variable is greater at the end of the duel, you will show one of the following three results on the screen:\n",
    "\n",
    "<ul>\n",
    "    <li>Gandalf wins</li>\n",
    "    <li>Saruman wins</li>\n",
    "    <li>Tie</li>\n",
    "</ul>"
   ]
  },
  {
   "cell_type": "markdown",
   "metadata": {},
   "source": [
    "<h3>3.1 Studying the problem</h3>\n",
    "\n",
    "<p>Before tackling the problem, we need to understand what are our variables and our goal. Then, we need to write a step-by-step of how we think we are going to solve the problem at hand.\n",
    "    \n",
    "<h4>3.1.1 Understanding the Variables</h4>\n",
    "\n",
    "<p>We have two lists, one for each sorcerer. Each element of the list is the power of the spell cast in a clash. The position of the element indicates the clash, therefore the first element of the <code>gandalf</code> list and the first element of the <code>saruman</code> list are the spells cast in the first clash between the two sorcerers.\n",
    "    \n",
    "<h4>3.1.2 Our Goal Is...</h4>\n",
    "\n",
    "<p>We need to compare the value of the spell in each clash to see which sorcerer has won it. The sorcerer that has won the most is the one that will win the battle.\n",
    "    \n",
    "<h4>3.1.3 Step-By-Step</h4>\n",
    "\n",
    "<ol>\n",
    "    <li>Create a variable for each sorcerer and assign the integer <code>0</code> to them</li>\n",
    "    <li>Iterate the two lists at the same time to retrieve the spells cast in each clash</li>\n",
    "    <li>Compare the values of the spells cast</li>\n",
    "    <li>If Galdalf has cast the most powerful spell, increment 1 to his variable; the same will happen if Saruman has cast the most powerful spell</li>\n",
    "    <li>Compare the variables of each sorcerer to see who has won the most</li>\n",
    "    <li>Print the name of the winner</li>\n",
    "</ol>"
   ]
  },
  {
   "cell_type": "code",
   "execution_count": 10,
   "metadata": {},
   "outputs": [],
   "source": [
    "#Step 0: Assign the spell power list to variables\n",
    "\n",
    "gandalf = [10, 11, 13, 30, 22, 11, 10, 33, 22, 22]\n",
    "saruman = [23, 66, 12, 43, 12, 10, 44, 23, 12, 17]"
   ]
  },
  {
   "cell_type": "code",
   "execution_count": 11,
   "metadata": {},
   "outputs": [],
   "source": [
    "#Step 1: Create a variable for each sorcerer and assign the integer 0 to both of them\n",
    "\n",
    "gandalf_victory = 0\n",
    "saruman_victory = 0"
   ]
  },
  {
   "cell_type": "markdown",
   "metadata": {},
   "source": [
    "<p>To iterate the two lists we'll have to rely on the fact that each element belongs to a clash and that the clashes happen in the same order on both lists.\n",
    "\n",
    "<p>Therefore, we'll be iterating the lists based on their index by using the <code>[]</code> notation.\n",
    "\n",
    "<p>To be sure that we iterate through all of the elements of the lists, we'll use the <code>len()</code> function to retrieve the number of elements. Here, we'll be using the gandalf list, but we could use the saruman list instead because they both have the same number of elements."
   ]
  },
  {
   "cell_type": "code",
   "execution_count": 12,
   "metadata": {},
   "outputs": [],
   "source": [
    "#Step 2: Iterating the two lists at the same time\n",
    "\n",
    "for position in range(len(gandalf)):\n",
    "    \n",
    "    #Step 3: Compare the values of the spell cast\n",
    "    if gandalf[position] > saruman[position]:\n",
    "        \n",
    "        #Step 4: If Gandalf has cast the most powerful spell in the clash\n",
    "        #increment 1 to his variable\n",
    "        gandalf_victory += 1\n",
    "    \n",
    "    else:\n",
    "        \n",
    "        #Step 4: The same will happen if Saruman has cast the most powerful spell\n",
    "        saruman_victory += 1"
   ]
  },
  {
   "cell_type": "code",
   "execution_count": 13,
   "metadata": {},
   "outputs": [
    {
     "name": "stdout",
     "output_type": "stream",
     "text": [
      "Gandalf wins.\n"
     ]
    }
   ],
   "source": [
    "#Step 5: Compare the variables of each sorcerer to see who has won the most\n",
    "\n",
    "if gandalf_victory > saruman_victory:\n",
    "    #Step 6: Print the name of the winner\n",
    "    print(\"Gandalf wins.\")\n",
    "elif saruman_victory > gandalf_victory:\n",
    "    print(\"Saruman wins.\")\n",
    "else:\n",
    "    print(\"Tie\")"
   ]
  },
  {
   "cell_type": "markdown",
   "metadata": {},
   "source": [
    "<p>Since we only have ten clashes, let's check if our result is correct.\n",
    "    \n",
    "<table>\n",
    "    <tr>\n",
    "        <th>Power of the Spell cast by Gandalf</th>\n",
    "        <th>Power of the Spell cast by Saruman</th>\n",
    "        <th>Result</th>\n",
    "    </tr>\n",
    "    <tr>\n",
    "        <td>10</td>\n",
    "        <td>23</td>\n",
    "        <td>Saruman has won</td>\n",
    "    </tr>\n",
    "    <tr>\n",
    "        <td>11</td>\n",
    "        <td>66</td>\n",
    "        <td>Saruman has won</td>\n",
    "    </tr>\n",
    "    <tr>\n",
    "        <td>13</td>\n",
    "        <td>12</td>\n",
    "        <td>Gandalf has won</td>\n",
    "    </tr>\n",
    "    <tr>\n",
    "        <td>30</td>\n",
    "        <td>43</td>\n",
    "        <td>Saruman has won</td>\n",
    "    </tr>\n",
    "    <tr>\n",
    "        <td>22</td>\n",
    "        <td>12</td>\n",
    "        <td>Gandalf has won</td>\n",
    "    </tr>\n",
    "    <tr>\n",
    "        <td>11</td>\n",
    "        <td>10</td>\n",
    "        <td>Gandalf has won</td>\n",
    "    </tr>\n",
    "    <tr>\n",
    "        <td>10</td>\n",
    "        <td>44</td>\n",
    "        <td>Saruman has won</td>\n",
    "    </tr>\n",
    "    <tr>\n",
    "        <td>33</td>\n",
    "        <td>23</td>\n",
    "        <td>Gandalf has won</td>\n",
    "    </tr>\n",
    "    <tr>\n",
    "        <td>22</td>\n",
    "        <td>12</td>\n",
    "        <td>Gandalf has won</td>\n",
    "    </tr>\n",
    "    <tr>\n",
    "        <td>22</td>\n",
    "        <td>17</td>\n",
    "        <td>Gandalf has won</td>\n",
    "    </tr>\n",
    "</table>\n",
    "\n",
    "<p>Gandalf has won 6 times and Saruman has won 4 times. Therefore our result is correct!"
   ]
  },
  {
   "cell_type": "markdown",
   "metadata": {},
   "source": [
    "<h2>4. Dual of Sorcerers: Bonus</h2>\n",
    "\n",
    "<p><strong>PROBLEM:</strong>\n",
    "\n",
    "<ol>\n",
    "    <li>Spells now have a name and there is a dictionary that relates that name to a power</li>\n",
    "    <li>A sorcerer wins if he succeeds in winning 3 spell clashes in a row</li>\n",
    "    <li>Average of each of the spell lists.</li>\n",
    "    <li>Standard deviation of each of the spell lists.</li>\n",
    "</ol>\n",
    "\n",
    "<p>POWER = {<br>\n",
    "    'Fireball': 50,<br> \n",
    "    'Lightning bolt': 40,<br> \n",
    "    'Magic arrow': 10,<br>\n",
    "    'Black Tentacles': 25,<br> \n",
    "    'Contagion': 45<br>\n",
    "}\n",
    "    \n",
    "<p>gandalf = ['Fireball', 'Lightning bolt', 'Lightning bolt', 'Magic arrow', 'Fireball', \n",
    "           'Magic arrow', 'Lightning bolt', 'Fireball', 'Fireball', 'Fireball']\n",
    "    \n",
    "<p>saruman = ['Contagion', 'Contagion', 'Black Tentacles', 'Fireball', 'Black Tentacles', \n",
    "           'Lightning bolt', 'Magic arrow', 'Contagion', 'Magic arrow', 'Magic arrow']"
   ]
  },
  {
   "cell_type": "markdown",
   "metadata": {},
   "source": [
    "<h3>4.1 Understanding the Problem</h3>\n",
    "\n",
    "<p>Now, each sorcerer has a list of the spell used in the clash. To see which spell used is more powerful we need to retrieve the power of the spell from a dictionary called <code>POWER</code>. To win the battle, the sorcerer must win three classhes in a row.\n",
    "    \n",
    "<p>Therefore, what are our goals? We need to retrieve the power of each spell used to see which sorcerer who won each clash. Our ultimate goal, though, is to now which sorcerer has won three clashes in a row.\n",
    "    \n",
    "<p>Besides that, we need to calculate the average of power of the spells cast by each sorcerer and the standard deviation."
   ]
  },
  {
   "cell_type": "code",
   "execution_count": 14,
   "metadata": {},
   "outputs": [],
   "source": [
    "#Creating the dictionary\n",
    "\n",
    "POWER = {\n",
    "    'Fireball': 50, \n",
    "    'Lightning bolt': 40, \n",
    "    'Magic arrow': 10, \n",
    "    'Black Tentacles': 25, \n",
    "    'Contagion': 45\n",
    "}"
   ]
  },
  {
   "cell_type": "code",
   "execution_count": 15,
   "metadata": {},
   "outputs": [],
   "source": [
    "#Creating the spell list of each sorcerer\n",
    "\n",
    "gandalf = ['Fireball', 'Lightning bolt', 'Lightning bolt', 'Magic arrow', 'Fireball', \n",
    "           'Magic arrow', 'Lightning bolt', 'Fireball', 'Magic arrow', 'Fireball']\n",
    "saruman = ['Contagion', 'Contagion', 'Black Tentacles', 'Fireball', 'Black Tentacles', \n",
    "           'Lightning bolt', 'Magic arrow', 'Contagion', 'Magic arrow', 'Magic arrow']"
   ]
  },
  {
   "cell_type": "code",
   "execution_count": 16,
   "metadata": {},
   "outputs": [
    {
     "name": "stdout",
     "output_type": "stream",
     "text": [
      "[50, 40, 40, 10, 50, 10, 40, 50, 10, 50]\n"
     ]
    }
   ],
   "source": [
    "#Step 1: Retrieving the power of each spell used by each sorcerer\n",
    "\n",
    "#Let's begin with Gandalf\n",
    "gandalf_power = []\n",
    "\n",
    "for spell in gandalf:\n",
    "    gandalf_power.append(POWER[spell])\n",
    "    \n",
    "print(gandalf_power)"
   ]
  },
  {
   "cell_type": "code",
   "execution_count": 17,
   "metadata": {},
   "outputs": [
    {
     "name": "stdout",
     "output_type": "stream",
     "text": [
      "[45, 45, 25, 50, 25, 40, 10, 45, 10, 10]\n"
     ]
    }
   ],
   "source": [
    "#Let's do the same with Saruman\n",
    "saruman_power = []\n",
    "\n",
    "for spell in saruman:\n",
    "    saruman_power.append(POWER[spell])\n",
    "    \n",
    "print(saruman_power)"
   ]
  },
  {
   "cell_type": "code",
   "execution_count": 18,
   "metadata": {},
   "outputs": [
    {
     "name": "stdout",
     "output_type": "stream",
     "text": [
      "['Gandalf', 'Saruman', 'Gandalf', 'Saruman', 'Gandalf', 'Saruman', 'Gandalf', 'Gandalf', 'Tie', 'Gandalf']\n"
     ]
    }
   ],
   "source": [
    "#Step 2: Let's see who has won each clash\n",
    "\n",
    "winner = []\n",
    "\n",
    "for position in range(len(gandalf_power)):\n",
    "    if gandalf_power[position] > saruman_power[position]:\n",
    "        winner.append(\"Gandalf\")\n",
    "    elif saruman_power[position] > gandalf_power[position]:\n",
    "        winner.append(\"Saruman\")\n",
    "    else:\n",
    "        winner.append(\"Tie\")\n",
    "        \n",
    "print(winner)"
   ]
  },
  {
   "cell_type": "code",
   "execution_count": 19,
   "metadata": {},
   "outputs": [
    {
     "name": "stdout",
     "output_type": "stream",
     "text": [
      "No sorcerer has won 3 times in a row\n"
     ]
    }
   ],
   "source": [
    "#Step 3: Let's check to see if one of the sorcerers has won three times in a row\n",
    "\n",
    "winner_name = ''\n",
    "\n",
    "for position in range(len(winner)-2):\n",
    "    if winner[position] == winner[position + 1] and winner[position] == winner[position + 2]:\n",
    "        winner_name = winner[position]\n",
    "        \n",
    "if winner_name == '':\n",
    "    print(\"No sorcerer has won 3 times in a row\")\n",
    "else:\n",
    "    print(winner_name, \"has won 3 times in a row\")"
   ]
  },
  {
   "cell_type": "markdown",
   "metadata": {},
   "source": [
    "This problem is a little bit ambiguous, though. In the answer above, we have considered that tying will break the victory combo. But what if we disconsider that? To easily do that, we'll remove the word \"Tie\" from the list."
   ]
  },
  {
   "cell_type": "code",
   "execution_count": 20,
   "metadata": {},
   "outputs": [
    {
     "name": "stdout",
     "output_type": "stream",
     "text": [
      "['Gandalf', 'Saruman', 'Gandalf', 'Saruman', 'Gandalf', 'Saruman', 'Gandalf', 'Gandalf', 'Gandalf']\n"
     ]
    }
   ],
   "source": [
    "#Removing any element \"Tie\" from the list\n",
    "\n",
    "winner_clean = []\n",
    "\n",
    "for element in winner:\n",
    "    if element != \"Tie\":\n",
    "        winner_clean.append(element)\n",
    "        \n",
    "print(winner_clean)"
   ]
  },
  {
   "cell_type": "code",
   "execution_count": 21,
   "metadata": {},
   "outputs": [
    {
     "name": "stdout",
     "output_type": "stream",
     "text": [
      "Gandalf has won 3 times in a row\n"
     ]
    }
   ],
   "source": [
    "#Step 3: Let's check to see if one of the sorcerers has won three times in a row\n",
    "\n",
    "winner_name = ''\n",
    "\n",
    "for position in range(len(winner_clean)-2):\n",
    "    if winner_clean[position] == winner_clean[position + 1] and winner_clean[position] == winner_clean[position + 2]:\n",
    "        winner_name = winner_clean[position]\n",
    "        \n",
    "if winner_name == '':\n",
    "    print(\"No sorcerer has won 3 times in a row\")\n",
    "else:\n",
    "    print(winner_name, \"has won 3 times in a row\")"
   ]
  },
  {
   "cell_type": "code",
   "execution_count": 22,
   "metadata": {},
   "outputs": [
    {
     "name": "stdout",
     "output_type": "stream",
     "text": [
      "The average power of the spells cast by Gandalf is 35.0 and by Saruman is 30.5\n"
     ]
    }
   ],
   "source": [
    "#Calculating the average power for each sorcerer\n",
    "\n",
    "gandalf_avg = sum(gandalf_power)/len(gandalf_power)\n",
    "saruman_avg = sum(saruman_power)/len(saruman_power)\n",
    "\n",
    "print(\"The average power of the spells cast by Gandalf is {} and by Saruman is {}\".format(gandalf_avg, saruman_avg))"
   ]
  },
  {
   "cell_type": "code",
   "execution_count": 23,
   "metadata": {},
   "outputs": [
    {
     "name": "stdout",
     "output_type": "stream",
     "text": [
      "The average power of the spells cast by Gandalf is 35 and by Saruman is 30.5\n"
     ]
    }
   ],
   "source": [
    "#Another way of doing it is by importing the statistics module and use the mean function\n",
    "\n",
    "from statistics import mean\n",
    "\n",
    "gandalf_avg2 = mean(gandalf_power)\n",
    "saruman_avg2 = mean(saruman_power)\n",
    "\n",
    "print(\"The average power of the spells cast by Gandalf is {} and by Saruman is {}\".format(gandalf_avg2, saruman_avg2))"
   ]
  },
  {
   "cell_type": "code",
   "execution_count": 24,
   "metadata": {},
   "outputs": [
    {
     "name": "stdout",
     "output_type": "stream",
     "text": [
      "The standard deviation of the power of the spells cast by Gandalf is 17.795130420052185 and by Saruman is 16.40629960309962\n"
     ]
    }
   ],
   "source": [
    "#Calculating the standard deviation\n",
    "#The easiest way to do this is by importing the funtion stdev from the statistics module\n",
    "\n",
    "from statistics import stdev\n",
    "\n",
    "gandalf_stdev = stdev(gandalf_power)\n",
    "saruman_stdev = stdev(saruman_power)\n",
    "\n",
    "print(\"The standard deviation of the power of the spells cast by Gandalf is {} and by Saruman is {}\".format(gandalf_stdev, saruman_stdev))"
   ]
  },
  {
   "cell_type": "markdown",
   "metadata": {},
   "source": [
    "<h2>5. Rock, Paper, Scissors</h2>"
   ]
  },
  {
   "cell_type": "markdown",
   "metadata": {},
   "source": [
    "<p><strong>PROBLEM:</strong> Let's play the famous game against our computer. The use of functions is recomended.\n",
    "    \n",
    "<h3>5.1 Understanding the Problem</h3>\n",
    "\n",
    "<p> We need to play a game of Rock, Paper, and Scissors agains our computer. In order to do that, we'll need to gather input from our keyboard using the <code>input()</code> function and the computer will need to randomly select an element to play.\n",
    "    \n",
    "<p> We could write this entire game without defining any function. But the program would be longer and less efficient. So, let's follow the advice provided on the problem statement and let's use them!\n",
    "    \n",
    "<p><strong>IMPORTANT:</strong> In order to select a random element from a list, we'll need to import a module called <code>random</code>. How could we know that if the problem statement doesn't say anything about it? We could have asked google!"
   ]
  },
  {
   "cell_type": "code",
   "execution_count": 25,
   "metadata": {},
   "outputs": [],
   "source": [
    "#Importing the random module\n",
    "import random"
   ]
  },
  {
   "cell_type": "code",
   "execution_count": 26,
   "metadata": {},
   "outputs": [],
   "source": [
    "#Creating a list with the options we'll provide for the computer\n",
    "items = ['Rock', 'Paper', 'Scissors']"
   ]
  },
  {
   "cell_type": "code",
   "execution_count": 29,
   "metadata": {},
   "outputs": [],
   "source": [
    "#Defining a function to retrieve the random value the computer will play\n",
    "\n",
    "def computer_func(items):\n",
    "    return random.choice(items)\n",
    "\n",
    "#Defining a function that will ask for the input of the player\n",
    "\n",
    "def player_func(items):\n",
    "    inp = ''\n",
    "    \n",
    "    while inp not in items:        \n",
    "        inp = input(\"Choose one of the following items: Rock, Paper or Scissors.\")\n",
    "    return inp\n",
    "\n",
    "#Defining a function to combat\n",
    "\n",
    "def combat_func(n_games):\n",
    "    \n",
    "    #Creating the variables used in the game\n",
    "    i = 0\n",
    "    computer = 0\n",
    "    player = 0\n",
    "    tie = 0\n",
    "    \n",
    "    while i < n_games:\n",
    "        \n",
    "        pc_choice = computer_func(items)\n",
    "        player_choice = player_func(items)\n",
    "        i += 1\n",
    "        \n",
    "        if pc_choice == \"Rock\":\n",
    "            if player_choice == \"Rock\":\n",
    "                tie += 1\n",
    "                print(\"It's a tie.\")\n",
    "            elif player_choice == \"Paper\":\n",
    "                player += 1\n",
    "                print(\"The player has won.\")\n",
    "            else:\n",
    "                computer += 1\n",
    "                print(\"The computer has won.\")\n",
    "        elif pc_choice == \"Paper\":\n",
    "            if player_choice == \"Rock\":\n",
    "                computer += 1\n",
    "                print(\"The computer has won.\")\n",
    "            elif player_choice == \"Paper\":\n",
    "                tie += 1\n",
    "                print(\"It's a tie.\")\n",
    "            else:\n",
    "                player += 1\n",
    "                print(\"The player has won.\")\n",
    "        else:\n",
    "            if player_choice == \"Rock\":\n",
    "                player += 1\n",
    "                print(\"The player has won.\")\n",
    "            elif player_choice == \"Paper\":\n",
    "                computer += 1\n",
    "                print(\"The computer has won.\")\n",
    "            else:\n",
    "                tie += 1\n",
    "                print(\"It's a tie.\")\n",
    "    \n",
    "    if computer >= tie and computer > player:\n",
    "        print(\"Computer has won {} times and is the winner.\".format(computer))\n",
    "    elif player >= tie and player > computer:\n",
    "        print(\"The player has won {} times and is the winner.\".format(player))\n",
    "    else:\n",
    "        print(\"It's a tie!\")"
   ]
  },
  {
   "cell_type": "code",
   "execution_count": 30,
   "metadata": {},
   "outputs": [
    {
     "name": "stdout",
     "output_type": "stream",
     "text": [
      "Choose one of the following items: Rock, Paper or Scissors.Rock\n",
      "The computer has won.\n",
      "Choose one of the following items: Rock, Paper or Scissors.Paper\n",
      "The computer has won.\n",
      "Choose one of the following items: Rock, Paper or Scissors.Paper\n",
      "The computer has won.\n",
      "Choose one of the following items: Rock, Paper or Scissors.Paper\n",
      "It's a tie.\n",
      "Choose one of the following items: Rock, Paper or Scissors.Paper\n",
      "It's a tie.\n",
      "Computer has won 3 times and is the winner.\n"
     ]
    }
   ],
   "source": [
    "combat_func(5)"
   ]
  },
  {
   "cell_type": "code",
   "execution_count": 31,
   "metadata": {},
   "outputs": [
    {
     "name": "stdout",
     "output_type": "stream",
     "text": [
      "Choose one of the following items: Rock, Paper or Scissors.Rock\n",
      "The computer has won.\n",
      "Choose one of the following items: Rock, Paper or Scissors.Rock\n",
      "The player has won.\n",
      "Choose one of the following items: Rock, Paper or Scissors.Rock\n",
      "The computer has won.\n",
      "Choose one of the following items: Rock, Paper or Scissors.Rock\n",
      "The computer has won.\n",
      "Choose one of the following items: Rock, Paper or Scissors.Rock\n",
      "The player has won.\n",
      "Choose one of the following items: Rock, Paper or Scissors.Rock\n",
      "The computer has won.\n",
      "Choose one of the following items: Rock, Paper or Scissors.Rock\n",
      "The player has won.\n",
      "Computer has won 4 times and is the winner.\n"
     ]
    }
   ],
   "source": [
    "combat_func(7)"
   ]
  },
  {
   "cell_type": "code",
   "execution_count": 32,
   "metadata": {},
   "outputs": [
    {
     "name": "stdout",
     "output_type": "stream",
     "text": [
      "Choose one of the following items: Rock, Paper or Scissors.Paper\n",
      "The computer has won.\n",
      "Choose one of the following items: Rock, Paper or Scissors.Paper\n",
      "It's a tie.\n",
      "Choose one of the following items: Rock, Paper or Scissors.Paper\n",
      "It's a tie.\n",
      "Choose one of the following items: Rock, Paper or Scissors.Paper\n",
      "It's a tie.\n",
      "Choose one of the following items: Rock, Paper or Scissors.Paper\n",
      "The computer has won.\n",
      "Choose one of the following items: Rock, Paper or Scissors.Paper\n",
      "The computer has won.\n",
      "Choose one of the following items: Rock, Paper or Scissors.Paper\n",
      "The player has won.\n",
      "Choose one of the following items: Rock, Paper or Scissors.Paper\n",
      "It's a tie.\n",
      "Choose one of the following items: Rock, Paper or Scissors.Paper\n",
      "The computer has won.\n",
      "Choose one of the following items: Rock, Paper or Scissors.Paper\n",
      "The computer has won.\n",
      "Computer has won 5 times and is the winner.\n"
     ]
    }
   ],
   "source": [
    "combat_func(10)"
   ]
  }
 ],
 "metadata": {
  "kernelspec": {
   "display_name": "Python 3",
   "language": "python",
   "name": "python3"
  },
  "language_info": {
   "codemirror_mode": {
    "name": "ipython",
    "version": 3
   },
   "file_extension": ".py",
   "mimetype": "text/x-python",
   "name": "python",
   "nbconvert_exporter": "python",
   "pygments_lexer": "ipython3",
   "version": "3.7.3"
  }
 },
 "nbformat": 4,
 "nbformat_minor": 2
}
