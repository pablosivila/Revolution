{
 "cells": [
  {
   "cell_type": "markdown",
   "metadata": {},
   "source": [
    "<h1>String Operations</h1>"
   ]
  },
  {
   "cell_type": "code",
   "execution_count": 60,
   "metadata": {},
   "outputs": [
    {
     "data": {
      "text/plain": [
       "'Data Analytics'"
      ]
     },
     "execution_count": 60,
     "metadata": {},
     "output_type": "execute_result"
    }
   ],
   "source": [
    "#Concatenating strings\n",
    "\n",
    "\"Data\" + \" \" + \"Analytics\""
   ]
  },
  {
   "cell_type": "code",
   "execution_count": 62,
   "metadata": {},
   "outputs": [
    {
     "data": {
      "text/plain": [
       "'Ironhack Ironhack Ironhack Ironhack Ironhack '"
      ]
     },
     "execution_count": 62,
     "metadata": {},
     "output_type": "execute_result"
    }
   ],
   "source": [
    "#Repeting strings\n",
    "\n",
    "\"Ironhack \" * 5"
   ]
  },
  {
   "cell_type": "code",
   "execution_count": 63,
   "metadata": {},
   "outputs": [
    {
     "data": {
      "text/plain": [
       "1"
      ]
     },
     "execution_count": 63,
     "metadata": {},
     "output_type": "execute_result"
    }
   ],
   "source": [
    "#Returning the number of characters in a string\n",
    "\n",
    "len(\"I\")"
   ]
  },
  {
   "cell_type": "code",
   "execution_count": 67,
   "metadata": {},
   "outputs": [
    {
     "data": {
      "text/plain": [
       "\"Ironhack is not only a bootcamp; it's a life-changing experience and a family that will always be there for you.\""
      ]
     },
     "execution_count": 67,
     "metadata": {},
     "output_type": "execute_result"
    }
   ],
   "source": [
    "#Saving a testimonial taken from the Ironhack website into a variable\n",
    "\n",
    "testimonial = \"Ironhack is not only a bootcamp;\\\n",
    " it's a life-changing experience and a family that will always be there for you.\"\n",
    "\n",
    "testimonial"
   ]
  },
  {
   "cell_type": "code",
   "execution_count": 70,
   "metadata": {},
   "outputs": [
    {
     "name": "stdout",
     "output_type": "stream",
     "text": [
      "['Ironhack', 'is', 'not', 'only', 'a', 'bootcamp;', \"it's\", 'a', 'life-changing', 'experience', 'and', 'a', 'family', 'that', 'will', 'always', 'be', 'there', 'for', 'you.']\n"
     ]
    }
   ],
   "source": [
    "#Spliting the string whenever we have a blank space\n",
    "\n",
    "test_lst = testimonial.split()\n",
    "\n",
    "print(test_lst)"
   ]
  },
  {
   "cell_type": "code",
   "execution_count": 75,
   "metadata": {},
   "outputs": [
    {
     "name": "stdout",
     "output_type": "stream",
     "text": [
      "Ironhackisnotonlyabootcamp;it'salife-changingexperienceandafamilythatwillalwaysbethereforyou.\n"
     ]
    }
   ],
   "source": [
    "#Joining strings using the join() method\n",
    "joined_str = ''.join(test_lst)\n",
    "\n",
    "print(joined_str)"
   ]
  },
  {
   "cell_type": "code",
   "execution_count": 12,
   "metadata": {},
   "outputs": [
    {
     "name": "stdout",
     "output_type": "stream",
     "text": [
      "['Ironhack is not only a bootcamp', \" it's a life-changing experience and a family that will always be there for you.\"]\n"
     ]
    }
   ],
   "source": [
    "#spliting the string whenever we have a semicolon\n",
    "test_lst = testimonial.split(';')\n",
    "\n",
    "print(test_lst)"
   ]
  },
  {
   "cell_type": "code",
   "execution_count": 13,
   "metadata": {},
   "outputs": [
    {
     "name": "stdout",
     "output_type": "stream",
     "text": [
      "Ironhack is not only a bootcamp. it's a life-changing experience and a family that will always be there for you.\n"
     ]
    }
   ],
   "source": [
    "#Joining the string\n",
    "joined_str = '.'.join(test_lst)\n",
    "\n",
    "print(joined_str)"
   ]
  },
  {
   "cell_type": "code",
   "execution_count": 74,
   "metadata": {},
   "outputs": [
    {
     "data": {
      "text/plain": [
       "'It\\'s a \"nice\" day out there'"
      ]
     },
     "execution_count": 74,
     "metadata": {},
     "output_type": "execute_result"
    }
   ],
   "source": [
    "new_str = \"It's a \\\"nice\\\" day out there\"\n",
    "\n",
    "new_str"
   ]
  },
  {
   "cell_type": "code",
   "execution_count": 14,
   "metadata": {},
   "outputs": [
    {
     "data": {
      "text/plain": [
       "112"
      ]
     },
     "execution_count": 14,
     "metadata": {},
     "output_type": "execute_result"
    }
   ],
   "source": [
    "#Returning the length of the joined_str\n",
    "\n",
    "len(joined_str)"
   ]
  },
  {
   "cell_type": "markdown",
   "metadata": {},
   "source": [
    "<p>Checking some conditions"
   ]
  },
  {
   "cell_type": "code",
   "execution_count": 76,
   "metadata": {},
   "outputs": [
    {
     "data": {
      "text/plain": [
       "False"
      ]
     },
     "execution_count": 76,
     "metadata": {},
     "output_type": "execute_result"
    }
   ],
   "source": [
    "#Testing if the testimonial starts with the letter I\n",
    "testimonial.startswith('i')"
   ]
  },
  {
   "cell_type": "code",
   "execution_count": 16,
   "metadata": {},
   "outputs": [
    {
     "data": {
      "text/plain": [
       "True"
      ]
     },
     "execution_count": 16,
     "metadata": {},
     "output_type": "execute_result"
    }
   ],
   "source": [
    "#Testing if the testimonial starts with the word Ironhack\n",
    "testimonial.startswith('Ironhack')"
   ]
  },
  {
   "cell_type": "code",
   "execution_count": 20,
   "metadata": {},
   "outputs": [
    {
     "data": {
      "text/plain": [
       "False"
      ]
     },
     "execution_count": 20,
     "metadata": {},
     "output_type": "execute_result"
    }
   ],
   "source": [
    "#Testing if the testimonial starts with the word ironhack\n",
    "testimonial.startswith('ironhack')"
   ]
  },
  {
   "cell_type": "code",
   "execution_count": 17,
   "metadata": {},
   "outputs": [
    {
     "data": {
      "text/plain": [
       "False"
      ]
     },
     "execution_count": 17,
     "metadata": {},
     "output_type": "execute_result"
    }
   ],
   "source": [
    "#Testing if the testimonial starts with the word Love\n",
    "testimonial.startswith('Love')"
   ]
  },
  {
   "cell_type": "code",
   "execution_count": 78,
   "metadata": {},
   "outputs": [
    {
     "data": {
      "text/plain": [
       "False"
      ]
     },
     "execution_count": 78,
     "metadata": {},
     "output_type": "execute_result"
    }
   ],
   "source": [
    "#Testing if the testimonial ends with a final dot\n",
    "testimonial.endswith('you')"
   ]
  },
  {
   "cell_type": "code",
   "execution_count": 19,
   "metadata": {},
   "outputs": [
    {
     "data": {
      "text/plain": [
       "False"
      ]
     },
     "execution_count": 19,
     "metadata": {},
     "output_type": "execute_result"
    }
   ],
   "source": [
    "#Testing if the testimonial ends with a blank space\n",
    "testimonial.endswith(' ')"
   ]
  },
  {
   "cell_type": "code",
   "execution_count": 21,
   "metadata": {},
   "outputs": [
    {
     "data": {
      "text/plain": [
       "True"
      ]
     },
     "execution_count": 21,
     "metadata": {},
     "output_type": "execute_result"
    }
   ],
   "source": [
    "#Testing if \"family\" is a substring of the testimonial\n",
    "\n",
    "\"family\" in testimonial"
   ]
  },
  {
   "cell_type": "code",
   "execution_count": 81,
   "metadata": {},
   "outputs": [
    {
     "data": {
      "text/plain": [
       "True"
      ]
     },
     "execution_count": 81,
     "metadata": {},
     "output_type": "execute_result"
    }
   ],
   "source": [
    "#Testing if \"life\" is a substring of the testimonial\n",
    "\n",
    "\"-ch\" in testimonial"
   ]
  },
  {
   "cell_type": "markdown",
   "metadata": {},
   "source": [
    "<p>Changing cases"
   ]
  },
  {
   "cell_type": "code",
   "execution_count": 82,
   "metadata": {},
   "outputs": [
    {
     "data": {
      "text/plain": [
       "False"
      ]
     },
     "execution_count": 82,
     "metadata": {},
     "output_type": "execute_result"
    }
   ],
   "source": [
    "\"Ironhack\" == \"ironhack\""
   ]
  },
  {
   "cell_type": "code",
   "execution_count": 23,
   "metadata": {},
   "outputs": [
    {
     "data": {
      "text/plain": [
       "\"IRONHACK IS NOT ONLY A BOOTCAMP; IT'S A LIFE-CHANGING EXPERIENCE AND A FAMILY THAT WILL ALWAYS BE THERE FOR YOU.\""
      ]
     },
     "execution_count": 23,
     "metadata": {},
     "output_type": "execute_result"
    }
   ],
   "source": [
    "testimonial.upper()"
   ]
  },
  {
   "cell_type": "code",
   "execution_count": 24,
   "metadata": {},
   "outputs": [
    {
     "data": {
      "text/plain": [
       "\"ironhack is not only a bootcamp; it's a life-changing experience and a family that will always be there for you.\""
      ]
     },
     "execution_count": 24,
     "metadata": {},
     "output_type": "execute_result"
    }
   ],
   "source": [
    "testimonial.lower()"
   ]
  },
  {
   "cell_type": "code",
   "execution_count": 25,
   "metadata": {},
   "outputs": [
    {
     "data": {
      "text/plain": [
       "\"Ironhack is not only a bootcamp; it's a life-changing experience and a family that will always be there for you.\""
      ]
     },
     "execution_count": 25,
     "metadata": {},
     "output_type": "execute_result"
    }
   ],
   "source": [
    "testimonial.capitalize()"
   ]
  },
  {
   "cell_type": "code",
   "execution_count": 26,
   "metadata": {},
   "outputs": [
    {
     "data": {
      "text/plain": [
       "\"Ironhack Is Not Only A Bootcamp; It'S A Life-Changing Experience And A Family That Will Always Be There For You.\""
      ]
     },
     "execution_count": 26,
     "metadata": {},
     "output_type": "execute_result"
    }
   ],
   "source": [
    "testimonial.title()"
   ]
  },
  {
   "cell_type": "markdown",
   "metadata": {},
   "source": [
    "<p>Striping characters"
   ]
  },
  {
   "cell_type": "code",
   "execution_count": 27,
   "metadata": {},
   "outputs": [
    {
     "data": {
      "text/plain": [
       "\" is not only a bootcamp; it's a life-changing experience and a family that will always be there for you.\""
      ]
     },
     "execution_count": 27,
     "metadata": {},
     "output_type": "execute_result"
    }
   ],
   "source": [
    "testimonial.strip(\"Ironhack\")"
   ]
  },
  {
   "cell_type": "code",
   "execution_count": 3,
   "metadata": {},
   "outputs": [
    {
     "data": {
      "text/plain": [
       "'it is one of the hottest days of the year and I think I like itit itititit'"
      ]
     },
     "execution_count": 3,
     "metadata": {},
     "output_type": "execute_result"
    }
   ],
   "source": [
    "#Creating a new string to test the strip functions\n",
    "\n",
    "new_string = \"it is one of the hottest days of the year and I think I like itit itititit\"\n",
    "\n",
    "new_string"
   ]
  },
  {
   "cell_type": "code",
   "execution_count": 4,
   "metadata": {},
   "outputs": [
    {
     "data": {
      "text/plain": [
       "' is one of the hottest days of the year and I think I like itit '"
      ]
     },
     "execution_count": 4,
     "metadata": {},
     "output_type": "execute_result"
    }
   ],
   "source": [
    "new_string.strip(\"it\")"
   ]
  },
  {
   "cell_type": "code",
   "execution_count": 5,
   "metadata": {},
   "outputs": [
    {
     "data": {
      "text/plain": [
       "' is one of the hottest days of the year and I think I like itit itititit'"
      ]
     },
     "execution_count": 5,
     "metadata": {},
     "output_type": "execute_result"
    }
   ],
   "source": [
    "new_string.lstrip(\"it\")"
   ]
  },
  {
   "cell_type": "code",
   "execution_count": 6,
   "metadata": {},
   "outputs": [
    {
     "data": {
      "text/plain": [
       "'it is one of the hottest days of the year and I think I like itit '"
      ]
     },
     "execution_count": 6,
     "metadata": {},
     "output_type": "execute_result"
    }
   ],
   "source": [
    "new_string.rstrip(\"it\")"
   ]
  },
  {
   "cell_type": "markdown",
   "metadata": {},
   "source": [
    "<p>Replacing substrings"
   ]
  },
  {
   "cell_type": "code",
   "execution_count": 35,
   "metadata": {},
   "outputs": [
    {
     "data": {
      "text/plain": [
       "\"Ironhack is not only a bootcamp; it's a life-changing experience and a family that will always be there for you.\""
      ]
     },
     "execution_count": 35,
     "metadata": {},
     "output_type": "execute_result"
    }
   ],
   "source": [
    "testimonial"
   ]
  },
  {
   "cell_type": "code",
   "execution_count": 36,
   "metadata": {},
   "outputs": [
    {
     "data": {
      "text/plain": [
       "\"Ironhack is not only a bootcamp; it's a life-changing experience and a family that will sometimes be there for you.\""
      ]
     },
     "execution_count": 36,
     "metadata": {},
     "output_type": "execute_result"
    }
   ],
   "source": [
    "testimonial.replace('always','sometimes')"
   ]
  },
  {
   "cell_type": "markdown",
   "metadata": {},
   "source": [
    "<h1>Regular Expressions</h1>"
   ]
  },
  {
   "cell_type": "code",
   "execution_count": 37,
   "metadata": {},
   "outputs": [],
   "source": [
    "import re"
   ]
  },
  {
   "cell_type": "code",
   "execution_count": 8,
   "metadata": {},
   "outputs": [],
   "source": [
    "best_song_ever = \"\"\"I got a feelin'\n",
    "That tonight's gonna be a good night\n",
    "That tonight's gonna be a good night\n",
    "That tonight's gonna be a good, good night\n",
    "Feelin'\n",
    "That tonight's gonna be a good night\n",
    "That tonight's gonna be a good night\n",
    "That tonight's gonna be a good, good night\n",
    "A feelin' (Wooh-ooh)\n",
    "That tonight's gonna be a good night\n",
    "That tonight's gonna be a good night\n",
    "That tonight's gonna be a good, good night\n",
    "A feelin' (Wooh-ooh)\n",
    "That tonight's gonna be a good night\n",
    "That tonight's gonna be a good night\n",
    "That tonight's gonna be a good, good night (Fee-)\"\"\""
   ]
  },
  {
   "cell_type": "code",
   "execution_count": 10,
   "metadata": {},
   "outputs": [
    {
     "name": "stdout",
     "output_type": "stream",
     "text": [
      "I got a feelin'\n",
      "That tonight's gonna be a good night\n",
      "That tonight's gonna be a good night\n",
      "That tonight's gonna be a good, good night\n",
      "Feelin'\n",
      "That tonight's gonna be a good night\n",
      "That tonight's gonna be a good night\n",
      "That tonight's gonna be a good, good night\n",
      "A feelin' (Wooh-ooh)\n",
      "That tonight's gonna be a good night\n",
      "That tonight's gonna be a good night\n",
      "That tonight's gonna be a good, good night\n",
      "A feelin' (Wooh-ooh)\n",
      "That tonight's gonna be a good night\n",
      "That tonight's gonna be a good night\n",
      "That tonight's gonna be a good, good night (Fee-)\n"
     ]
    }
   ],
   "source": [
    "print(best_song_ever)"
   ]
  },
  {
   "cell_type": "code",
   "execution_count": 42,
   "metadata": {},
   "outputs": [
    {
     "name": "stdout",
     "output_type": "stream",
     "text": [
      "['good', 'good', 'good', 'good', 'good', 'good', 'good', 'good', 'good', 'good', 'good', 'good', 'good', 'good', 'good', 'good']\n"
     ]
    }
   ],
   "source": [
    "print(re.findall('good', best_song_ever))"
   ]
  },
  {
   "cell_type": "code",
   "execution_count": 46,
   "metadata": {},
   "outputs": [
    {
     "name": "stdout",
     "output_type": "stream",
     "text": [
      "['I', 'o', 'i', 'o', 'i', 'o', 'o', 'o', 'i', 'o', 'i', 'o', 'o', 'o', 'i', 'o', 'i', 'o', 'o', 'o', 'o', 'o', 'i', 'i', 'o', 'i', 'o', 'o', 'o', 'i', 'o', 'i', 'o', 'o', 'o', 'i', 'o', 'i', 'o', 'o', 'o', 'o', 'o', 'i', 'i', 'o', 'o', 'o', 'o', 'o', 'i', 'o', 'o', 'o', 'i', 'o', 'i', 'o', 'o', 'o', 'i', 'o', 'i', 'o', 'o', 'o', 'o', 'o', 'i', 'i', 'o', 'o', 'o', 'o', 'o', 'i', 'o', 'o', 'o', 'i', 'o', 'i', 'o', 'o', 'o', 'i', 'o', 'i', 'o', 'o', 'o', 'o', 'o', 'i']\n"
     ]
    }
   ],
   "source": [
    "#Finding all the letters o and the letter u\n",
    "print(re.findall('[oiI]', best_song_ever))"
   ]
  },
  {
   "cell_type": "code",
   "execution_count": 49,
   "metadata": {},
   "outputs": [
    {
     "name": "stdout",
     "output_type": "stream",
     "text": [
      "['I', ' ', ' ', ' ', \"'\", '\\n', 'T', ' ', \"'\", ' ', ' ', ' ', ' ', ' ', '\\n', 'T', ' ', \"'\", ' ', ' ', ' ', ' ', ' ', '\\n', 'T', ' ', \"'\", ' ', ' ', ' ', ' ', ',', ' ', ' ', '\\n', 'F', \"'\", '\\n', 'T', ' ', \"'\", ' ', ' ', ' ', ' ', ' ', '\\n', 'T', ' ', \"'\", ' ', ' ', ' ', ' ', ' ', '\\n', 'T', ' ', \"'\", ' ', ' ', ' ', ' ', ',', ' ', ' ', '\\n', 'A', ' ', \"'\", ' ', '(', 'W', '-', ')', '\\n', 'T', ' ', \"'\", ' ', ' ', ' ', ' ', ' ', '\\n', 'T', ' ', \"'\", ' ', ' ', ' ', ' ', ' ', '\\n', 'T', ' ', \"'\", ' ', ' ', ' ', ' ', ',', ' ', ' ', '\\n', 'A', ' ', \"'\", ' ', '(', 'W', '-', ')', '\\n', 'T', ' ', \"'\", ' ', ' ', ' ', ' ', ' ', '\\n', 'T', ' ', \"'\", ' ', ' ', ' ', ' ', ' ', '\\n', 'T', ' ', \"'\", ' ', ' ', ' ', ' ', ',', ' ', ' ', ' ', '(', 'F', '-', ')']\n"
     ]
    }
   ],
   "source": [
    "#Finding all the characters that aren't lowercase\n",
    "print(re.findall('[^a-z]', best_song_ever))"
   ]
  },
  {
   "cell_type": "markdown",
   "metadata": {},
   "source": [
    "\\s --> any whitespace character"
   ]
  },
  {
   "cell_type": "code",
   "execution_count": 50,
   "metadata": {},
   "outputs": [
    {
     "name": "stdout",
     "output_type": "stream",
     "text": [
      "['I', \"'\", 'T', \"'\", 'T', \"'\", 'T', \"'\", ',', 'F', \"'\", 'T', \"'\", 'T', \"'\", 'T', \"'\", ',', 'A', \"'\", '(', 'W', '-', ')', 'T', \"'\", 'T', \"'\", 'T', \"'\", ',', 'A', \"'\", '(', 'W', '-', ')', 'T', \"'\", 'T', \"'\", 'T', \"'\", ',', '(', 'F', '-', ')']\n"
     ]
    }
   ],
   "source": [
    "print(re.findall('[^a-z\\s]', best_song_ever))"
   ]
  }
 ],
 "metadata": {
  "kernelspec": {
   "display_name": "Python 3",
   "language": "python",
   "name": "python3"
  },
  "language_info": {
   "codemirror_mode": {
    "name": "ipython",
    "version": 3
   },
   "file_extension": ".py",
   "mimetype": "text/x-python",
   "name": "python",
   "nbconvert_exporter": "python",
   "pygments_lexer": "ipython3",
   "version": "3.7.3"
  }
 },
 "nbformat": 4,
 "nbformat_minor": 2
}
